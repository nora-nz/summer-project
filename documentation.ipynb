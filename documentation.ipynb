{
 "cells": [
  {
   "cell_type": "markdown",
   "id": "a973d2ca",
   "metadata": {},
   "source": [
    "# All useful python code I've used for the project"
   ]
  },
  {
   "cell_type": "markdown",
   "id": "412a8cd7",
   "metadata": {},
   "source": [
    "### Format of the dataset"
   ]
  },
  {
   "cell_type": "markdown",
   "id": "69794c08",
   "metadata": {},
   "source": [
    "Only mentioning parts used in this code"
   ]
  },
  {
   "cell_type": "markdown",
   "id": "cc42557a",
   "metadata": {},
   "source": [
    "```\n",
    "<listOfUnitDefinitions>\n",
    "<listOfCompartments>\n",
    "<listOfSpecies>\n",
    "    <species metaid=\"\" id=\"\" name=\"\" compartment=\"\" etc...> #metaid = id \n",
    "<listOfParameters>\n",
    "    <parameter sboTerm=\"\" id=\"\" value=\"\"> # 3 possible ids: FB1N1000, FB2N0, FB3N1000 (equivalent to -1000, 0 and 1000)\n",
    "<listOfReactions>\n",
    "    <reaction metaid=\"\" id=\"\" name=\"\" reversible=\"\" fbc:lowerFluxBound=\"\" fbc:upperFluxBound> #metaid = id = name\n",
    "        <listOfReactants>\n",
    "            <speciesReference species=\"\" stoichiometry=\"\" etc...>\n",
    "        <listOfProducts>\n",
    "            <speciesReference species=\"\" stoichiometry=\"\" etc...>\n",
    "<fbc:listOfObjectives>\n",
    "    <fbc:objective fbc:id=\"\" fbc:type=\"\"> #type = maximise or minimise\n",
    "        <fbc:listOfFluxObjectives>\n",
    "            <fbc:fluxObjective fbc:reaction=\"\" fbc:coefficient=\"\"> #fbc:reaction=objective function reaction's ID\n",
    "<fbc:listOfGeneProducts>\n",
    "<groups:listOfGroups>\n",
    "    <groups:group sboTerm=\"\" groups:id=\"\" groups:name=\"\" groups:kind=\"\">\n",
    "        <groups:listOfMembers>\n",
    "            <groups:member groups:idRef=\"\"> #individual reaction IDs\n",
    "```"
   ]
  },
  {
   "cell_type": "markdown",
   "id": "bc32745e",
   "metadata": {},
   "source": [
    "### Output format required (as JSON)"
   ]
  },
  {
   "cell_type": "markdown",
   "id": "92931d37",
   "metadata": {},
   "source": [
    "```\n",
    "{\n",
    "    \"nodes\": [\n",
    "        {\n",
    "            \"id\": \"\",\n",
    "            \"name\": \"\",\n",
    "            \"group\": \"\"\n",
    "        },\n",
    "        {\n",
    "            \"id\": \"\",\n",
    "            \"name\": \"\",\n",
    "            \"group\": \"\"\n",
    "        }\n",
    "     ],\n",
    "     \"links\": [\n",
    "         {\n",
    "             \"source\": \"\",\n",
    "             \"target\": \"\"\n",
    "         },\n",
    "         {\n",
    "             \"source\": \"\",\n",
    "             \"target\": \"\"\n",
    "         }\n",
    "     ]\n",
    "}\n",
    "```\n",
    "Additional keys can be added, e.g. color, particle, etc."
   ]
  },
  {
   "cell_type": "markdown",
   "id": "303cda0b",
   "metadata": {},
   "source": [
    "### Setup"
   ]
  },
  {
   "cell_type": "code",
   "execution_count": 2,
   "id": "90d5d98a",
   "metadata": {},
   "outputs": [],
   "source": [
    "import xml.dom.minidom\n",
    "import cobra\n",
    "import pandas as pd\n",
    "import numpy as np\n",
    "import json"
   ]
  },
  {
   "cell_type": "markdown",
   "id": "af869fe2",
   "metadata": {},
   "source": [
    "### Main dataframe for connecting species names, groups and IDs"
   ]
  },
  {
   "cell_type": "code",
   "execution_count": 8,
   "id": "fa700b47",
   "metadata": {},
   "outputs": [
    {
     "name": "stdout",
     "output_type": "stream",
     "text": [
      "Stored 'dataframe' (DataFrame)\n"
     ]
    },
    {
     "data": {
      "text/html": [
       "<div>\n",
       "<style scoped>\n",
       "    .dataframe tbody tr th:only-of-type {\n",
       "        vertical-align: middle;\n",
       "    }\n",
       "\n",
       "    .dataframe tbody tr th {\n",
       "        vertical-align: top;\n",
       "    }\n",
       "\n",
       "    .dataframe thead th {\n",
       "        text-align: right;\n",
       "    }\n",
       "</style>\n",
       "<table border=\"1\" class=\"dataframe\">\n",
       "  <thead>\n",
       "    <tr style=\"text-align: right;\">\n",
       "      <th></th>\n",
       "      <th>names</th>\n",
       "      <th>groups</th>\n",
       "      <th>ids</th>\n",
       "    </tr>\n",
       "  </thead>\n",
       "  <tbody>\n",
       "    <tr>\n",
       "      <th>1</th>\n",
       "      <td>(10Z)-heptadecenoic acid</td>\n",
       "      <td>c</td>\n",
       "      <td>m00003__91__c__93__</td>\n",
       "    </tr>\n",
       "    <tr>\n",
       "      <th>2</th>\n",
       "      <td>(10Z)-heptadecenoic acid</td>\n",
       "      <td>r</td>\n",
       "      <td>m00003__91__r__93__</td>\n",
       "    </tr>\n",
       "    <tr>\n",
       "      <th>3</th>\n",
       "      <td>(10Z)-heptadecenoic acid</td>\n",
       "      <td>s</td>\n",
       "      <td>m00003__91__s__93__</td>\n",
       "    </tr>\n",
       "    <tr>\n",
       "      <th>4</th>\n",
       "      <td>(10Z)-heptadecenoyl-CoA</td>\n",
       "      <td>c</td>\n",
       "      <td>m00004__91__c__93__</td>\n",
       "    </tr>\n",
       "    <tr>\n",
       "      <th>5</th>\n",
       "      <td>(10Z)-heptadecenoyl-CoA</td>\n",
       "      <td>m</td>\n",
       "      <td>m00004__91__m__93__</td>\n",
       "    </tr>\n",
       "    <tr>\n",
       "      <th>...</th>\n",
       "      <td>...</td>\n",
       "      <td>...</td>\n",
       "      <td>...</td>\n",
       "    </tr>\n",
       "    <tr>\n",
       "      <th>2886</th>\n",
       "      <td>hyocholoyl-CoA</td>\n",
       "      <td>c</td>\n",
       "      <td>m90185__91__c__93__</td>\n",
       "    </tr>\n",
       "    <tr>\n",
       "      <th>2887</th>\n",
       "      <td>protein</td>\n",
       "      <td>c</td>\n",
       "      <td>m90190__91__c__93__</td>\n",
       "    </tr>\n",
       "    <tr>\n",
       "      <th>2888</th>\n",
       "      <td>glycogen storage pool</td>\n",
       "      <td>c</td>\n",
       "      <td>m90194__91__c__93__</td>\n",
       "    </tr>\n",
       "    <tr>\n",
       "      <th>2889</th>\n",
       "      <td>intracellular lipids</td>\n",
       "      <td>c</td>\n",
       "      <td>m90195__91__c__93__</td>\n",
       "    </tr>\n",
       "    <tr>\n",
       "      <th>2890</th>\n",
       "      <td>misc biomass metabolites</td>\n",
       "      <td>c</td>\n",
       "      <td>m90199__91__c__93__</td>\n",
       "    </tr>\n",
       "  </tbody>\n",
       "</table>\n",
       "<p>2890 rows × 3 columns</p>\n",
       "</div>"
      ],
      "text/plain": [
       "                         names groups                  ids\n",
       "1     (10Z)-heptadecenoic acid      c  m00003__91__c__93__\n",
       "2     (10Z)-heptadecenoic acid      r  m00003__91__r__93__\n",
       "3     (10Z)-heptadecenoic acid      s  m00003__91__s__93__\n",
       "4      (10Z)-heptadecenoyl-CoA      c  m00004__91__c__93__\n",
       "5      (10Z)-heptadecenoyl-CoA      m  m00004__91__m__93__\n",
       "...                        ...    ...                  ...\n",
       "2886            hyocholoyl-CoA      c  m90185__91__c__93__\n",
       "2887                   protein      c  m90190__91__c__93__\n",
       "2888     glycogen storage pool      c  m90194__91__c__93__\n",
       "2889      intracellular lipids      c  m90195__91__c__93__\n",
       "2890  misc biomass metabolites      c  m90199__91__c__93__\n",
       "\n",
       "[2890 rows x 3 columns]"
      ]
     },
     "execution_count": 8,
     "metadata": {},
     "output_type": "execute_result"
    }
   ],
   "source": [
    "file = xml.dom.minidom.parse(\"icardio.xml\") #read xml file\n",
    "model = file.documentElement #take all elements in the xml as the model\n",
    "species = model.getElementsByTagName(\"species\") #search model for all elements called \"species\" - refers to chemical species\n",
    "\n",
    "species_names = []\n",
    "species_groups = []\n",
    "species_ids = []\n",
    "\n",
    "for element in species: #loop through elements and append name, compartment and ID attributes to appropriate lists\n",
    "    species_names.append(element.getAttribute(\"name\"))\n",
    "    species_groups.append(element.getAttribute(\"compartment\"))\n",
    "    species_ids.append(element.getAttribute(\"id\"))\n",
    "     \n",
    "dataframe = pd.DataFrame({\"names\": species_names, \"groups\": species_groups, \"ids\": species_ids}) #make dataframe from lists\n",
    "dataframe.index = np.arange(1, len(dataframe)+1)\n",
    "%store dataframe \n",
    "#I stored this dataframe to use in other jupyter notebooks\n",
    "dataframe #format visible below after running"
   ]
  },
  {
   "cell_type": "markdown",
   "id": "6a15f962",
   "metadata": {},
   "source": [
    "### Dataframe for organising and connecting reactions to their reactants and products"
   ]
  },
  {
   "cell_type": "markdown",
   "id": "50092554",
   "metadata": {},
   "source": [
    "The code below loops through the \"reaction\" elements in the XML file. It is necessary to loop through the list of reactants and list of products separately because the individual species are listed as \"speciesReference\" under both of the categories. Searching for \"speciesReference\" would not specify if a species is reactant or product in a reaction."
   ]
  },
  {
   "cell_type": "code",
   "execution_count": 9,
   "id": "05a217b6",
   "metadata": {},
   "outputs": [
    {
     "name": "stdout",
     "output_type": "stream",
     "text": [
      "Stored 'list_of_reactions' (list)\n"
     ]
    },
    {
     "data": {
      "text/plain": [
       "{'id': 'RCR10001',\n",
       " 'Reactants': [{'id': 'm01285__91__c__93__', 'name': 'ADP', 'group': 'c'}],\n",
       " 'Products': [{'id': 'm01334__91__c__93__', 'name': 'AMP', 'group': 'c'},\n",
       "  {'id': 'm01371__91__c__93__', 'name': 'ATP', 'group': 'c'}]}"
      ]
     },
     "execution_count": 9,
     "metadata": {},
     "output_type": "execute_result"
    }
   ],
   "source": [
    "list_of_reactions = []\n",
    "reactions = model.getElementsByTagName(\"reaction\") #get all elements in the model that are called \"reaction\"\n",
    "\n",
    "for reaction in reactions:\n",
    "    this_reaction = {}\n",
    "    this_reaction[\"id\"] = reaction.getAttribute(\"name\") #make the reaction's \"name\" attribute its ID number in the dataframe\n",
    "    list_of_reactants = reaction.getElementsByTagName(\"listOfReactants\") #get all elements in the current reaction that are called \"listOfReactants\"\n",
    "    list_of_products = reaction.getElementsByTagName(\"listOfProducts\") #get all elements in the current reaction that are called \"listOfProducts\"\n",
    "    for reactant in list_of_reactants:\n",
    "        this_reaction[\"Reactants\"] = []\n",
    "        species_reference = reactant.getElementsByTagName(\"speciesReference\") #get all elements in the current reactant element that are called \"speciesReference\"\n",
    "        for species in species_reference: \n",
    "            this_reaction[\"Reactants\"].append({\"id\": species.getAttribute(\"species\"), #organise into list of dictionaries\n",
    "                                               \"name\": dataframe.loc[dataframe[\"ids\"] == species.getAttribute(\"species\"), \"names\"].array[0],\n",
    "                                               \"group\": dataframe.loc[dataframe[\"ids\"] == species.getAttribute(\"species\"), \"groups\"].array[0]})\n",
    "    for product in list_of_products:\n",
    "        this_reaction[\"Products\"] = []\n",
    "        species_reference = product.getElementsByTagName(\"speciesReference\") #get all elements in the current product element that are called \"speciesReference\"\n",
    "        for species in species_reference:\n",
    "            this_reaction[\"Products\"].append({\"id\": species.getAttribute(\"species\"), #organise into list of dictionaries\n",
    "                                               \"name\": dataframe.loc[dataframe[\"ids\"] == species.getAttribute(\"species\"), \"names\"].array[0],\n",
    "                                               \"group\": dataframe.loc[dataframe[\"ids\"] == species.getAttribute(\"species\"), \"groups\"].array[0]})        \n",
    "        \n",
    "    list_of_reactions.append(this_reaction)\n",
    "\n",
    "%store list_of_reactions \n",
    "#storing list_of_reactions for use in other jupyter notebooks\n",
    "list_of_reactions[0] #output format visible below after running"
   ]
  },
  {
   "cell_type": "markdown",
   "id": "066f3330",
   "metadata": {},
   "source": [
    "### Dataframe for associating reactions and their reactants/products with metabolic pathways"
   ]
  },
  {
   "cell_type": "code",
   "execution_count": 10,
   "id": "2e8b68e5",
   "metadata": {},
   "outputs": [],
   "source": [
    "pathways = model.getElementsByTagName(\"groups:group\") #get all elements in the model that are called \"groups:group\", the groups are metabolic pathways\n",
    "list_of_pathways = []\n",
    "for item in pathways:\n",
    "    if item.hasAttribute(\"groups:name\"): #get the pathway's name into a list\n",
    "        name = item.getAttribute(\"groups:name\")\n",
    "    list_of_members = item.getElementsByTagName(\"groups:listOfMembers\") #get the list of reactions participating in the current metabolic pathway, this is necessary because the actual items I was interested in are nested inside\n",
    "    for member in list_of_members:\n",
    "        member_rxn = member.getElementsByTagName(\"groups:member\") #get individual reactions from the list\n",
    "        name_list = []\n",
    "        for rxn in member_rxn: #loop through each reaction\n",
    "            rxn_item = {}\n",
    "            rxn_item[\"id\"] = rxn.getAttribute(\"groups:idRef\") #get all attributes that are called \"groups:idRef\" from the current reaction\n",
    "            for item in list_of_reactions: #loop through list created in the above cell\n",
    "                if item[\"id\"] == rxn_item[\"id\"]: #if the reaction ID is found, take the stored dictionaries and append them to the pathway list\n",
    "                    rxn_item[\"Reactants\"] = item[\"Reactants\"]\n",
    "                    if \"Products\" in item:\n",
    "                        rxn_item[\"Products\"] = item[\"Products\"]\n",
    "            name_list.append(rxn_item)\n",
    "        pathway_dict = {}\n",
    "        pathway_dict[\"name\"] = name\n",
    "        pathway_dict[\"Reactions\"] = name_list\n",
    "        list_of_pathways.append(pathway_dict) #output format visible in below cell"
   ]
  },
  {
   "cell_type": "code",
   "execution_count": null,
   "id": "38624749",
   "metadata": {},
   "outputs": [],
   "source": [
    "fatty_acid = list_of_pathways[15] \n",
    "%store fatty_acid \n",
    "#storing fatty acid metabolism reactions for use in other jupyter notebooks\n",
    "fatty_acid"
   ]
  },
  {
   "cell_type": "markdown",
   "id": "e19bd894",
   "metadata": {},
   "source": [
    "### Further filtering and organising"
   ]
  },
  {
   "cell_type": "markdown",
   "id": "256bd2c4",
   "metadata": {},
   "source": [
    "Since the data is mostly in the right format now it can be accessed and appended into other lists."
   ]
  },
  {
   "cell_type": "markdown",
   "id": "4ea7508b",
   "metadata": {},
   "source": [
    "#### Optimising for biomass/ATP"
   ]
  },
  {
   "cell_type": "markdown",
   "id": "0170d060",
   "metadata": {},
   "source": [
    "The model is optimised for biomass by default. To optimise for ATP, I've chosen reaction \"RCR20085\": ADP + Pi + H+ → ATP + H+ + H2O"
   ]
  },
  {
   "cell_type": "code",
   "execution_count": 11,
   "id": "110045e7",
   "metadata": {},
   "outputs": [],
   "source": [
    "ATP_optimisation = cobra.io.read_sbml_model(\"icardio.xml\") #read in model\n",
    "ATP_optimisation.objective = \"RCR20085\" #change objective function, this step is omitted when optimising for biomass\n",
    "ATP_optimisation.optimize() #optimise to calculate a possible solution\n",
    "ATP_optimisation_rxn_names = [_.name for _ in ATP_optimisation.reactions] #create list of reaction names\n",
    "ATP_optimisation_rxn_flux = [round(_.flux, 3) for _ in ATP_optimisation.reactions] #create list of reaction fluxes rounded to 3 decimal places"
   ]
  },
  {
   "cell_type": "markdown",
   "id": "c2ca4343",
   "metadata": {},
   "source": [
    "#### Optional filtering: glucose levels"
   ]
  },
  {
   "cell_type": "markdown",
   "id": "7bf1caf4",
   "metadata": {},
   "source": [
    "To reduce or completely cut off glucose the flux bounds of the appropriate reactions need to be set to the reduced percentage or 0. In the below example I wanted to optimise for ATP and cut off glucose completely. I looked up the appropriate reactions (just checked manually in the xml) and changed the lower and upper bounds to 0. The reactions are the transport reactions of glucose from cytoplasm to sarcoplasmic reticulum (glc_c_to_s), sarcoplasmic reticulum to cytoplasm (glc_s_to_c), cytoplasm to golgi (glc_c_to_g), and cytoplasm to ribosome (glc_c_to_r).\n",
    "\n",
    "I was also interested in what happens at 25% glucose. For this I changed the lower bound to -250 and the upper bound to 250. This equates to 25% in either direction."
   ]
  },
  {
   "cell_type": "code",
   "execution_count": null,
   "id": "15177053",
   "metadata": {},
   "outputs": [],
   "source": [
    "ATP_no_glc = cobra.io.read_sbml_model(\"icardio.xml\")\n",
    "ATP_no_glc.objective = \"RCR20085\"\n",
    "glc_c_to_s = ATP_no_glc.reactions.get_by_id(\"RCR41035\")\n",
    "glc_s_to_c = ATP_no_glc.reactions.get_by_id(\"RCR40464\")\n",
    "glc_c_to_g = ATP_no_glc.reactions.get_by_id(\"RCR20130\")\n",
    "glc_c_to_r = ATP_no_glc.reactions.get_by_id(\"RCR20071\")\n",
    "glc_c_to_s.lower_bound, glc_c_to_s.upper_bound = 0, 0 #-250, 250 for 25% glucose\n",
    "glc_s_to_c.lower_bound, glc_c_to_s.upper_bound = 0, 0 #-250, 250 for 25% glucose\n",
    "glc_c_to_g.lower_bound, glc_c_to_s.upper_bound = 0, 0 #-250, 250 for 25% glucose\n",
    "glc_c_to_r.lower_bound, glc_c_to_s.upper_bound = 0, 0 #-250, 250 for 25% glucose\n",
    "ATP_no_glc.optimize()\n",
    "no_glc_rxn_names = [_.name for _ in ATP_no_glc.reactions]\n",
    "no_glc_rxn_flux = [round(_.flux, 3) for _ in ATP_no_glc.reactions]"
   ]
  },
  {
   "cell_type": "markdown",
   "id": "438addf8",
   "metadata": {},
   "source": [
    "#### Optional filtering: flux difference"
   ]
  },
  {
   "cell_type": "markdown",
   "id": "c1db3a7b",
   "metadata": {},
   "source": [
    "I wanted to show the differences in flux between two conditions, for example between biomass optimised and ATP optimised. "
   ]
  },
  {
   "cell_type": "code",
   "execution_count": null,
   "id": "29291a5c",
   "metadata": {},
   "outputs": [],
   "source": [
    "biomass_ATP_flux_difference = []\n",
    "for index, item in enumerate(biomass_rxn_flux): #requires running the optimisation cell before with an appropriate variable for the fluxes of both conditions\n",
    "    biomass_ATP_flux_difference.append(item - ATP_rxn_flux[index]) "
   ]
  },
  {
   "cell_type": "markdown",
   "id": "37e36274",
   "metadata": {},
   "source": [
    "#### Optional filtering: compartments"
   ]
  },
  {
   "cell_type": "markdown",
   "id": "c0fe71fa",
   "metadata": {},
   "source": [
    "In some cases the dataset was so large that it really slowed the graphing process down so I opted to show certain compartments only. The main organising script just needs to check whether the reaction is within the selected reactions. "
   ]
  },
  {
   "cell_type": "code",
   "execution_count": null,
   "id": "a7ef1baf",
   "metadata": {},
   "outputs": [],
   "source": [
    "metabolism = list_of_reactions #fatty_acid[\"Reactions\"] can be swapped for list_of_reactions if we're working with whole-cell metabolism\n",
    "selector = \"c\" #c for cytoplasm for example\n",
    "selected_reactions = []\n",
    "\n",
    "for item in metabolism: \n",
    "    for reactant in item[\"Reactants\"]:\n",
    "        if reactant[\"group\"] == selector and item[\"id\"] not in selected_reactions:\n",
    "            selected_reactions.append(item[\"id\"])\n",
    "    if \"Products\" in item:\n",
    "        for product in item[\"Products\"]:\n",
    "            if product[\"group\"] == selector and item[\"id\"] not in selected_reactions:\n",
    "                selected_reactions.append(item[\"id\"])"
   ]
  },
  {
   "cell_type": "markdown",
   "id": "b63d1b0f",
   "metadata": {},
   "source": [
    "#### Separating non-zero flux values"
   ]
  },
  {
   "cell_type": "markdown",
   "id": "075e3fc9",
   "metadata": {},
   "source": [
    "This is necessary because zero flux reactions are not happening and need to be separated."
   ]
  },
  {
   "cell_type": "code",
   "execution_count": 12,
   "id": "32494669",
   "metadata": {},
   "outputs": [],
   "source": [
    "non_zero = []\n",
    "positive = []\n",
    "negative = []\n",
    "zero = []\n",
    "\n",
    "for index, flux in enumerate(ATP_optimisation_rxn_flux):\n",
    "    if flux > 0:\n",
    "        non_zero.append(ATP_optimisation_rxn_names[index])\n",
    "        positive.append(ATP_optimisation_rxn_names[index])\n",
    "    elif flux < 0:\n",
    "        non_zero.append(ATP_optimisation_rxn_names[index])\n",
    "        negative.append(ATP_optimisation_rxn_names[index])\n",
    "    else:\n",
    "        zero.append(ATP_optimisation_rxn_names[index])"
   ]
  },
  {
   "cell_type": "markdown",
   "id": "4bc3163c",
   "metadata": {},
   "source": [
    "#### Colours"
   ]
  },
  {
   "cell_type": "markdown",
   "id": "3343f250",
   "metadata": {},
   "source": [
    "I associated increasing ranges of flux with increasingly green colour. I take the absolute values of the fluxes because only the magnitude matters, not the direction."
   ]
  },
  {
   "cell_type": "code",
   "execution_count": 15,
   "id": "9abf9af0",
   "metadata": {},
   "outputs": [
    {
     "data": {
      "text/html": [
       "<div>\n",
       "<style scoped>\n",
       "    .dataframe tbody tr th:only-of-type {\n",
       "        vertical-align: middle;\n",
       "    }\n",
       "\n",
       "    .dataframe tbody tr th {\n",
       "        vertical-align: top;\n",
       "    }\n",
       "\n",
       "    .dataframe thead th {\n",
       "        text-align: right;\n",
       "    }\n",
       "</style>\n",
       "<table border=\"1\" class=\"dataframe\">\n",
       "  <thead>\n",
       "    <tr style=\"text-align: right;\">\n",
       "      <th></th>\n",
       "      <th>name</th>\n",
       "      <th>flux</th>\n",
       "      <th>colour</th>\n",
       "    </tr>\n",
       "  </thead>\n",
       "  <tbody>\n",
       "    <tr>\n",
       "      <th>0</th>\n",
       "      <td>RCR10001</td>\n",
       "      <td>0.0</td>\n",
       "      <td>rgba(255, 255, 255, 0.1)</td>\n",
       "    </tr>\n",
       "    <tr>\n",
       "      <th>1</th>\n",
       "      <td>RCR10002</td>\n",
       "      <td>0.0</td>\n",
       "      <td>rgba(255, 255, 255, 0.1)</td>\n",
       "    </tr>\n",
       "    <tr>\n",
       "      <th>2</th>\n",
       "      <td>RCR10004</td>\n",
       "      <td>-500.0</td>\n",
       "      <td>rgba(129, 185, 183, 1)</td>\n",
       "    </tr>\n",
       "    <tr>\n",
       "      <th>3</th>\n",
       "      <td>RCR10005</td>\n",
       "      <td>0.0</td>\n",
       "      <td>rgba(255, 255, 255, 0.1)</td>\n",
       "    </tr>\n",
       "    <tr>\n",
       "      <th>4</th>\n",
       "      <td>RCR10006</td>\n",
       "      <td>0.0</td>\n",
       "      <td>rgba(255, 255, 255, 0.1)</td>\n",
       "    </tr>\n",
       "    <tr>\n",
       "      <th>...</th>\n",
       "      <td>...</td>\n",
       "      <td>...</td>\n",
       "      <td>...</td>\n",
       "    </tr>\n",
       "    <tr>\n",
       "      <th>4195</th>\n",
       "      <td>RCR90207</td>\n",
       "      <td>0.0</td>\n",
       "      <td>rgba(255, 255, 255, 0.1)</td>\n",
       "    </tr>\n",
       "    <tr>\n",
       "      <th>4196</th>\n",
       "      <td>RCR90208</td>\n",
       "      <td>0.0</td>\n",
       "      <td>rgba(255, 255, 255, 0.1)</td>\n",
       "    </tr>\n",
       "    <tr>\n",
       "      <th>4197</th>\n",
       "      <td>RCR90209</td>\n",
       "      <td>0.0</td>\n",
       "      <td>rgba(255, 255, 255, 0.1)</td>\n",
       "    </tr>\n",
       "    <tr>\n",
       "      <th>4198</th>\n",
       "      <td>RCR90210</td>\n",
       "      <td>0.0</td>\n",
       "      <td>rgba(255, 255, 255, 0.1)</td>\n",
       "    </tr>\n",
       "    <tr>\n",
       "      <th>4199</th>\n",
       "      <td>RCR90211</td>\n",
       "      <td>0.0</td>\n",
       "      <td>rgba(255, 255, 255, 0.1)</td>\n",
       "    </tr>\n",
       "  </tbody>\n",
       "</table>\n",
       "<p>4200 rows × 3 columns</p>\n",
       "</div>"
      ],
      "text/plain": [
       "          name   flux                    colour\n",
       "0     RCR10001    0.0  rgba(255, 255, 255, 0.1)\n",
       "1     RCR10002    0.0  rgba(255, 255, 255, 0.1)\n",
       "2     RCR10004 -500.0    rgba(129, 185, 183, 1)\n",
       "3     RCR10005    0.0  rgba(255, 255, 255, 0.1)\n",
       "4     RCR10006    0.0  rgba(255, 255, 255, 0.1)\n",
       "...        ...    ...                       ...\n",
       "4195  RCR90207    0.0  rgba(255, 255, 255, 0.1)\n",
       "4196  RCR90208    0.0  rgba(255, 255, 255, 0.1)\n",
       "4197  RCR90209    0.0  rgba(255, 255, 255, 0.1)\n",
       "4198  RCR90210    0.0  rgba(255, 255, 255, 0.1)\n",
       "4199  RCR90211    0.0  rgba(255, 255, 255, 0.1)\n",
       "\n",
       "[4200 rows x 3 columns]"
      ]
     },
     "execution_count": 15,
     "metadata": {},
     "output_type": "execute_result"
    }
   ],
   "source": [
    "flux_colours = []\n",
    "\n",
    "for item in ATP_optimisation_rxn_flux:\n",
    "    if item == 0:\n",
    "        flux_colours.append(\"rgba(255, 255, 255, 0.1)\") #white\n",
    "    elif 0 < abs(item) <= 200:\n",
    "        flux_colours.append(\"rgba(213, 232, 231, 1)\")\n",
    "    elif 200 < abs(item) <= 400:\n",
    "        flux_colours.append(\"rgba(171, 208, 207, 1)\")\n",
    "    elif 400 < abs(item) <= 600:\n",
    "        flux_colours.append(\"rgba(129, 185, 183, 1)\")\n",
    "    elif 600 < abs(item) <= 800:\n",
    "        flux_colours.append(\"rgba(82, 163, 160, 1)\")\n",
    "    elif 800 < abs(item) <= 1000:\n",
    "        flux_colours.append(\"rgba(0, 140, 138, 1)\") #full green/teal\n",
    "        \n",
    "flux_dataframe = pd.DataFrame({\"name\": ATP_optimisation_rxn_names, \"flux\": ATP_optimisation_rxn_flux, \"colour\": flux_colours})\n",
    "flux_dataframe"
   ]
  },
  {
   "cell_type": "markdown",
   "id": "a37f1a20",
   "metadata": {},
   "source": [
    "#### Making nodes and links"
   ]
  },
  {
   "cell_type": "markdown",
   "id": "a3731de4",
   "metadata": {},
   "source": [
    "This is the main filtering/organising script. It separates every reaction and compound based on flux and direction while avoiding node duplication and also assigning appropriate colour, particle, flux and name values to each node and link. It also works to create data for the two types of graphs: non-zero flux reactions showing only or non-zero flux reactions highlighted in front of the 0 flux reactions."
   ]
  },
  {
   "cell_type": "code",
   "execution_count": 16,
   "id": "9a5e9e13",
   "metadata": {},
   "outputs": [],
   "source": [
    "metabolism = list_of_reactions #list_of_reactions can be swapped for fatty_acid[\"Reactions\"] if we're only interested in fatty acid metabolism reactions, since the data structure is the same the rest of the code will still work\n",
    "non_zero_nodes = []\n",
    "non_zero_links = []\n",
    "non_zero_pseudo_s = [] #pseudo nodes are required for reactions with multiple reactants/products\n",
    "non_zero_pseudo_e = [] #if there were no pseudo nodes, all compounds would point at each other and it would make no sense. They are invisible in the final graph\n",
    "node_counter = []\n",
    "non_zero_counter = []\n",
    "\n",
    "for item in metabolism: \n",
    "    if item[\"id\"] in non_zero: #check if reaction has non-zero flux, can also add condition here to check if the reaction ID is within the selected_reactions list if filering by compartment\n",
    "        for reactant in item[\"Reactants\"]:\n",
    "            if reactant[\"id\"] not in node_counter: #I needed this because I wanted to avoid having multiple nodes that are the same compound\n",
    "                reactant[\"opacity\"] = False #adding an opacity value to be able to filter showing these nodes in the graphing library\n",
    "                non_zero_nodes.append(reactant)\n",
    "                node_counter.append(reactant[\"id\"])\n",
    "                non_zero_counter.append(reactant[\"id\"]) #I added this because later code would override non-zero values and I'd end up omitting reactions\n",
    "        if \"Products\" in item: #some reactions do not have products in the dataset\n",
    "            non_zero_pseudo_s.append({\"id\": item[\"id\"] + \"s\", \"name\": item[\"id\"] + \"s\", \"group\": \"z\"}) #pseudo nodes get a special group \"z\" tag so that I can filter them in the final graph\n",
    "            non_zero_pseudo_e.append({\"id\": item[\"id\"] + \"e\", \"name\": item[\"id\"] + \"e\", \"group\": \"z\"})\n",
    "            for reactant in item[\"Reactants\"]:\n",
    "                if item[\"id\"] in positive: #separating by positive and negative fluxes because this decides the direction of the reaction and the movement of the particle. Also adding links between pseudo nodes where and name, particle, flux, and colour values so that they can be displayed in the graph\n",
    "                    non_zero_links.append({\"source\": reactant[\"id\"], \"target\": item[\"id\"] + \"s\", \"name\": item[\"id\"], \"particle\": True, \"flux\": abs(flux_dataframe.loc[flux_dataframe[\"name\"] == item[\"id\"], \"flux\"].array[0]), \"colour\": flux_dataframe.loc[flux_dataframe[\"name\"] == item[\"id\"], \"colour\"].array[0]})\n",
    "                    non_zero_links.append({\"source\": item[\"id\"] + \"s\", \"target\": item[\"id\"] + \"e\", \"name\": item[\"id\"], \"particle\": True, \"flux\": abs(flux_dataframe.loc[flux_dataframe[\"name\"] == item[\"id\"], \"flux\"].array[0]), \"colour\": flux_dataframe.loc[flux_dataframe[\"name\"] == item[\"id\"], \"colour\"].array[0]})\n",
    "                elif item[\"id\"] in negative:\n",
    "                    non_zero_links.append({\"source\": item[\"id\"] + \"s\", \"target\": reactant[\"id\"], \"name\": item[\"id\"], \"particle\": True, \"flux\": abs(flux_dataframe.loc[flux_dataframe[\"name\"] == item[\"id\"], \"flux\"].array[0]), \"colour\": flux_dataframe.loc[flux_dataframe[\"name\"] == item[\"id\"], \"colour\"].array[0]})\n",
    "                    non_zero_links.append({\"source\": item[\"id\"] + \"e\", \"target\": item[\"id\"] + \"s\", \"name\": item[\"id\"], \"particle\": True, \"flux\": abs(flux_dataframe.loc[flux_dataframe[\"name\"] == item[\"id\"], \"flux\"].array[0]), \"colour\": flux_dataframe.loc[flux_dataframe[\"name\"] == item[\"id\"], \"colour\"].array[0]})\n",
    "            for product in item[\"Products\"]:\n",
    "                if item[\"id\"] in positive:\n",
    "                    non_zero_links.append({\"source\": item[\"id\"] + \"e\", \"target\": product[\"id\"], \"name\": item[\"id\"], \"particle\": True, \"flux\": abs(flux_dataframe.loc[flux_dataframe[\"name\"] == item[\"id\"], \"flux\"].array[0]), \"colour\": flux_dataframe.loc[flux_dataframe[\"name\"] == item[\"id\"], \"colour\"].array[0]})\n",
    "                elif item[\"id\"] in negative:\n",
    "                    non_zero_links.append({\"source\": product[\"id\"], \"target\": item[\"id\"] + \"e\", \"name\": item[\"id\"], \"particle\": True, \"flux\": abs(flux_dataframe.loc[flux_dataframe[\"name\"] == item[\"id\"], \"flux\"].array[0]), \"colour\": flux_dataframe.loc[flux_dataframe[\"name\"] == item[\"id\"], \"colour\"].array[0]})\n",
    "                if product[\"id\"] not in node_counter: #again avoiding duplication of compound nodes\n",
    "                    product[\"opacity\"] = False\n",
    "                    non_zero_nodes.append(product)\n",
    "                    node_counter.append(product[\"id\"])\n",
    "                    non_zero_counter.append(product[\"id\"])\n",
    "\n",
    "#this bit below is only required for the maps where the 0 flux reactions are showing as transparent grey connections while the non-zero flux reactions are highlighted\n",
    "zero_nodes = []\n",
    "zero_links = []\n",
    "pseudo_s = []\n",
    "pseudo_e = []\n",
    "pseudo_links = []\n",
    "node_counter_2 = []\n",
    "\n",
    "for item in metabolism: #again list_of_reactions needs to be swapped for fatty_acid[\"Reactions\"] when working with fatty acid metabolism reactions only\n",
    "    if item[\"id\"] in zero:\n",
    "        for reactant in item[\"Reactants\"]:\n",
    "            if reactant[\"id\"] not in node_counter_2 and reactant[\"id\"] not in non_zero_counter: #avoiding node duplication\n",
    "                reactant[\"opacity\"] = True\n",
    "                zero_nodes.append(reactant)\n",
    "                node_counter_2.append(reactant[\"id\"])\n",
    "        if \"Products\" in item:\n",
    "            pseudo_s.append({\"id\": item[\"id\"] + \"s\", \"name\": item[\"id\"] + \"s\", \"group\": \"z\"})\n",
    "            pseudo_e.append({\"id\": item[\"id\"] + \"e\", \"name\": item[\"id\"] + \"e\", \"group\": \"z\"})\n",
    "            for reactant in item[\"Reactants\"]: #I just assigned a white colour with 0.1 opacity/alpha to all reactions\n",
    "                zero_links.append({\"source\": reactant[\"id\"], \"target\": item[\"id\"] + \"s\", \"colour\": \"rgba(255, 255, 255, 0.1)\"})\n",
    "            for product in item[\"Products\"]:\n",
    "                zero_links.append({\"source\": item[\"id\"] + \"e\", \"target\": product[\"id\"], \"colour\": \"rgba(255, 255, 255, 0.1)\"})\n",
    "                if product[\"id\"] not in node_counter_2 and product[\"id\"] not in non_zero_counter:\n",
    "                    product[\"opacity\"] = True\n",
    "                    zero_nodes.append(product)\n",
    "                    node_counter_2.append(product[\"id\"])\n",
    "\n",
    "                    \n",
    "for item in pseudo_s: #making a connection between pseudo nodes\n",
    "        pseudo_links.append({\"source\": item[\"id\"], \"target\": item[\"id\"].replace(\"s\", \"e\"), \"colour\": \"rgba(255, 255, 255, 0.1)\"})\n",
    "\n",
    "\n",
    "#combine compound nodes and pseudo nodes        \n",
    "all_nodes = non_zero_nodes + non_zero_pseudo_s + non_zero_pseudo_e #+ zero_nodes + pseudo_s + pseudo_e <-- this is only required for the highlighted version\n",
    "#all_links = non_zero_links + zero_links + pseudo_links <-- this is only required for the highlighted version"
   ]
  },
  {
   "cell_type": "markdown",
   "id": "e1c7d6b4",
   "metadata": {},
   "source": [
    "#### Making up the correct format"
   ]
  },
  {
   "cell_type": "code",
   "execution_count": null,
   "id": "d1825f29",
   "metadata": {},
   "outputs": [],
   "source": [
    "JSON_export = {\"nodes\": [], \"links\": []}\n",
    "JSON_export[\"nodes\"] += all_nodes\n",
    "JSON_export[\"links\"] += non_zero_links #or all_links depending on whether it's the non-zero flux only or the highlighted version"
   ]
  },
  {
   "cell_type": "markdown",
   "id": "1d940960",
   "metadata": {},
   "source": [
    "### JSON export"
   ]
  },
  {
   "cell_type": "code",
   "execution_count": null,
   "id": "72d83b11",
   "metadata": {},
   "outputs": [],
   "source": [
    "json_string = json.dumps(JSON_export)\n",
    "\n",
    "with open('appropriate_filename.json', 'w', encoding='utf-8') as f:\n",
    "    json.dump(JSON_export, f, ensure_ascii=False, indent=4)"
   ]
  },
  {
   "cell_type": "code",
   "execution_count": null,
   "id": "32b34644",
   "metadata": {},
   "outputs": [],
   "source": []
  }
 ],
 "metadata": {
  "kernelspec": {
   "display_name": "Python 3 (ipykernel)",
   "language": "python",
   "name": "python3"
  },
  "language_info": {
   "codemirror_mode": {
    "name": "ipython",
    "version": 3
   },
   "file_extension": ".py",
   "mimetype": "text/x-python",
   "name": "python",
   "nbconvert_exporter": "python",
   "pygments_lexer": "ipython3",
   "version": "3.9.12"
  }
 },
 "nbformat": 4,
 "nbformat_minor": 5
}
