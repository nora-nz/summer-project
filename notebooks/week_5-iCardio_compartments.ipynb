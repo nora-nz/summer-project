{
 "cells": [
  {
   "cell_type": "markdown",
   "id": "f3613c3f",
   "metadata": {},
   "source": [
    "# iCardio data assembly for compartments"
   ]
  },
  {
   "cell_type": "markdown",
   "id": "63af7ffe",
   "metadata": {},
   "source": [
    "### Setup"
   ]
  },
  {
   "cell_type": "code",
   "execution_count": 2,
   "id": "9e50a4c7",
   "metadata": {},
   "outputs": [],
   "source": [
    "import xml.dom.minidom\n",
    "import pandas as pd\n",
    "import cobra\n",
    "import json\n",
    "import numpy as np"
   ]
  },
  {
   "cell_type": "code",
   "execution_count": 3,
   "id": "69316136",
   "metadata": {},
   "outputs": [],
   "source": [
    "file = xml.dom.minidom.parse(\"icardio.xml\")"
   ]
  },
  {
   "cell_type": "markdown",
   "id": "72e95efd",
   "metadata": {},
   "source": [
    "### Dataframe"
   ]
  },
  {
   "cell_type": "markdown",
   "id": "0180e156",
   "metadata": {},
   "source": [
    "#### Dataframe makes connection between species names, compartments and IDs"
   ]
  },
  {
   "cell_type": "code",
   "execution_count": 5,
   "id": "36db1f23",
   "metadata": {},
   "outputs": [
    {
     "data": {
      "text/html": [
       "<div>\n",
       "<style scoped>\n",
       "    .dataframe tbody tr th:only-of-type {\n",
       "        vertical-align: middle;\n",
       "    }\n",
       "\n",
       "    .dataframe tbody tr th {\n",
       "        vertical-align: top;\n",
       "    }\n",
       "\n",
       "    .dataframe thead th {\n",
       "        text-align: right;\n",
       "    }\n",
       "</style>\n",
       "<table border=\"1\" class=\"dataframe\">\n",
       "  <thead>\n",
       "    <tr style=\"text-align: right;\">\n",
       "      <th></th>\n",
       "      <th>names</th>\n",
       "      <th>groups</th>\n",
       "      <th>ids</th>\n",
       "    </tr>\n",
       "  </thead>\n",
       "  <tbody>\n",
       "    <tr>\n",
       "      <th>1</th>\n",
       "      <td>(10Z)-heptadecenoic acid</td>\n",
       "      <td>c</td>\n",
       "      <td>m00003__91__c__93__</td>\n",
       "    </tr>\n",
       "    <tr>\n",
       "      <th>2</th>\n",
       "      <td>(10Z)-heptadecenoic acid</td>\n",
       "      <td>r</td>\n",
       "      <td>m00003__91__r__93__</td>\n",
       "    </tr>\n",
       "    <tr>\n",
       "      <th>3</th>\n",
       "      <td>(10Z)-heptadecenoic acid</td>\n",
       "      <td>s</td>\n",
       "      <td>m00003__91__s__93__</td>\n",
       "    </tr>\n",
       "    <tr>\n",
       "      <th>4</th>\n",
       "      <td>(10Z)-heptadecenoyl-CoA</td>\n",
       "      <td>c</td>\n",
       "      <td>m00004__91__c__93__</td>\n",
       "    </tr>\n",
       "    <tr>\n",
       "      <th>5</th>\n",
       "      <td>(10Z)-heptadecenoyl-CoA</td>\n",
       "      <td>m</td>\n",
       "      <td>m00004__91__m__93__</td>\n",
       "    </tr>\n",
       "    <tr>\n",
       "      <th>...</th>\n",
       "      <td>...</td>\n",
       "      <td>...</td>\n",
       "      <td>...</td>\n",
       "    </tr>\n",
       "    <tr>\n",
       "      <th>2886</th>\n",
       "      <td>hyocholoyl-CoA</td>\n",
       "      <td>c</td>\n",
       "      <td>m90185__91__c__93__</td>\n",
       "    </tr>\n",
       "    <tr>\n",
       "      <th>2887</th>\n",
       "      <td>protein</td>\n",
       "      <td>c</td>\n",
       "      <td>m90190__91__c__93__</td>\n",
       "    </tr>\n",
       "    <tr>\n",
       "      <th>2888</th>\n",
       "      <td>glycogen storage pool</td>\n",
       "      <td>c</td>\n",
       "      <td>m90194__91__c__93__</td>\n",
       "    </tr>\n",
       "    <tr>\n",
       "      <th>2889</th>\n",
       "      <td>intracellular lipids</td>\n",
       "      <td>c</td>\n",
       "      <td>m90195__91__c__93__</td>\n",
       "    </tr>\n",
       "    <tr>\n",
       "      <th>2890</th>\n",
       "      <td>misc biomass metabolites</td>\n",
       "      <td>c</td>\n",
       "      <td>m90199__91__c__93__</td>\n",
       "    </tr>\n",
       "  </tbody>\n",
       "</table>\n",
       "<p>2890 rows × 3 columns</p>\n",
       "</div>"
      ],
      "text/plain": [
       "                         names groups                  ids\n",
       "1     (10Z)-heptadecenoic acid      c  m00003__91__c__93__\n",
       "2     (10Z)-heptadecenoic acid      r  m00003__91__r__93__\n",
       "3     (10Z)-heptadecenoic acid      s  m00003__91__s__93__\n",
       "4      (10Z)-heptadecenoyl-CoA      c  m00004__91__c__93__\n",
       "5      (10Z)-heptadecenoyl-CoA      m  m00004__91__m__93__\n",
       "...                        ...    ...                  ...\n",
       "2886            hyocholoyl-CoA      c  m90185__91__c__93__\n",
       "2887                   protein      c  m90190__91__c__93__\n",
       "2888     glycogen storage pool      c  m90194__91__c__93__\n",
       "2889      intracellular lipids      c  m90195__91__c__93__\n",
       "2890  misc biomass metabolites      c  m90199__91__c__93__\n",
       "\n",
       "[2890 rows x 3 columns]"
      ]
     },
     "execution_count": 5,
     "metadata": {},
     "output_type": "execute_result"
    }
   ],
   "source": [
    "model = file.documentElement\n",
    "species = model.getElementsByTagName(\"species\")\n",
    "\n",
    "species_names = []\n",
    "species_groups = []\n",
    "species_ids = []\n",
    "\n",
    "for element in species:\n",
    "    species_names.append(element.getAttribute(\"name\"))\n",
    "    species_groups.append(element.getAttribute(\"compartment\"))\n",
    "    species_ids.append(element.getAttribute(\"id\"))\n",
    "     \n",
    "dataframe = pd.DataFrame({\"names\": species_names, \"groups\": species_groups, \"ids\": species_ids})\n",
    "dataframe.index = np.arange(1, len(dataframe)+1)\n",
    "dataframe"
   ]
  },
  {
   "cell_type": "markdown",
   "id": "46e2c901",
   "metadata": {},
   "source": [
    "### Secondary Dataframe"
   ]
  },
  {
   "cell_type": "markdown",
   "id": "ac645313",
   "metadata": {},
   "source": [
    "#### Dataframe makes connection between reactions and species (separated into reactants and products). The dataframe is also used to arrange the information into a format suitable for export."
   ]
  },
  {
   "cell_type": "code",
   "execution_count": 6,
   "id": "2d90dbd3",
   "metadata": {},
   "outputs": [
    {
     "data": {
      "text/plain": [
       "[{'id': 'RCR10001',\n",
       "  'Reactants': [{'id': 'm01285__91__c__93__', 'name': 'ADP', 'group': 'c'}],\n",
       "  'Products': [{'id': 'm01334__91__c__93__', 'name': 'AMP', 'group': 'c'},\n",
       "   {'id': 'm01371__91__c__93__', 'name': 'ATP', 'group': 'c'}]},\n",
       " {'id': 'RCR10002',\n",
       "  'Reactants': [{'id': 'm01252__91__c__93__', 'name': 'acetate', 'group': 'c'},\n",
       "   {'id': 'm01371__91__c__93__', 'name': 'ATP', 'group': 'c'},\n",
       "   {'id': 'm01597__91__c__93__', 'name': 'CoA', 'group': 'c'}],\n",
       "  'Products': [{'id': 'm01261__91__c__93__',\n",
       "    'name': 'acetyl-CoA',\n",
       "    'group': 'c'},\n",
       "   {'id': 'm01334__91__c__93__', 'name': 'AMP', 'group': 'c'},\n",
       "   {'id': 'm02759__91__c__93__', 'name': 'PPi', 'group': 'c'}]},\n",
       " {'id': 'RCR10004',\n",
       "  'Reactants': [{'id': 'm01285__91__m__93__', 'name': 'ADP', 'group': 'm'}],\n",
       "  'Products': [{'id': 'm01334__91__m__93__', 'name': 'AMP', 'group': 'm'},\n",
       "   {'id': 'm01371__91__m__93__', 'name': 'ATP', 'group': 'm'}]},\n",
       " {'id': 'RCR10005',\n",
       "  'Reactants': [{'id': 'm01369__91__c__93__',\n",
       "    'name': 'asparagine',\n",
       "    'group': 'c'},\n",
       "   {'id': 'm01371__91__c__93__', 'name': 'ATP', 'group': 'c'},\n",
       "   {'id': 'm03065__91__c__93__', 'name': 'tRNA(asn)', 'group': 'c'}],\n",
       "  'Products': [{'id': 'm01334__91__c__93__', 'name': 'AMP', 'group': 'c'},\n",
       "   {'id': 'm02341__91__c__93__',\n",
       "    'name': 'L-asparaginyl-tRNA(asn)',\n",
       "    'group': 'c'},\n",
       "   {'id': 'm02759__91__c__93__', 'name': 'PPi', 'group': 'c'}]},\n",
       " {'id': 'RCR10006',\n",
       "  'Reactants': [{'id': 'm01365__91__c__93__',\n",
       "    'name': 'arginine',\n",
       "    'group': 'c'},\n",
       "   {'id': 'm01371__91__c__93__', 'name': 'ATP', 'group': 'c'},\n",
       "   {'id': 'm03064__91__c__93__', 'name': 'tRNA(arg)', 'group': 'c'}],\n",
       "  'Products': [{'id': 'm01334__91__c__93__', 'name': 'AMP', 'group': 'c'},\n",
       "   {'id': 'm02340__91__c__93__', 'name': 'L-arginyl-tRNA(arg)', 'group': 'c'},\n",
       "   {'id': 'm02759__91__c__93__', 'name': 'PPi', 'group': 'c'}]}]"
      ]
     },
     "execution_count": 6,
     "metadata": {},
     "output_type": "execute_result"
    }
   ],
   "source": [
    "list_of_reactions = []\n",
    "reactions = model.getElementsByTagName(\"reaction\")\n",
    "\n",
    "for reaction in reactions:\n",
    "    this_reaction = {}\n",
    "    this_reaction[\"id\"] = reaction.getAttribute(\"name\")\n",
    "    list_of_reactants = reaction.getElementsByTagName(\"listOfReactants\")\n",
    "    list_of_products = reaction.getElementsByTagName(\"listOfProducts\")\n",
    "    for reactant in list_of_reactants:\n",
    "        this_reaction[\"Reactants\"] = []\n",
    "        species_reference = reactant.getElementsByTagName(\"speciesReference\")\n",
    "        for species in species_reference:\n",
    "            this_reaction[\"Reactants\"].append({\"id\": species.getAttribute(\"species\"),\n",
    "                                               \"name\": dataframe.loc[dataframe[\"ids\"] == species.getAttribute(\"species\"), \"names\"].array[0],\n",
    "                                               \"group\": dataframe.loc[dataframe[\"ids\"] == species.getAttribute(\"species\"), \"groups\"].array[0]})\n",
    "    for product in list_of_products:\n",
    "        this_reaction[\"Products\"] = []\n",
    "        species_reference = product.getElementsByTagName(\"speciesReference\")\n",
    "        for species in species_reference:\n",
    "            this_reaction[\"Products\"].append({\"id\": species.getAttribute(\"species\"),\n",
    "                                               \"name\": dataframe.loc[dataframe[\"ids\"] == species.getAttribute(\"species\"), \"names\"].array[0],\n",
    "                                               \"group\": dataframe.loc[dataframe[\"ids\"] == species.getAttribute(\"species\"), \"groups\"].array[0]})        \n",
    "        \n",
    "    list_of_reactions.append(this_reaction)\n",
    "\n",
    "list_of_reactions[0:5]"
   ]
  },
  {
   "cell_type": "markdown",
   "id": "cc29369d",
   "metadata": {},
   "source": [
    "### Selector"
   ]
  },
  {
   "cell_type": "markdown",
   "id": "224b127f",
   "metadata": {},
   "source": [
    "#### The selector filters nodes and links according to the different compartments (here it is called a \"group\"). The resulting information is also organised into a format suitable for export."
   ]
  },
  {
   "cell_type": "code",
   "execution_count": 98,
   "id": "6a646b26",
   "metadata": {},
   "outputs": [],
   "source": [
    "nodes = []\n",
    "links = []\n",
    "pseudo_nodes_s = []\n",
    "pseudo_nodes_e = []\n",
    "selector = \"n\"\n",
    "selected_list_of_reactions = []\n",
    "\n",
    "\n",
    "for index, item in enumerate(species_ids):\n",
    "    if dataframe.loc[dataframe[\"ids\"] == item, \"groups\"].array[0] == selector:\n",
    "        nodes.append({\"id\": item, \"name\": species_names[index], \"group\": species_groups[index]})\n",
    "\n",
    "for item in list_of_reactions:\n",
    "    for reactants in item[\"Reactants\"]:\n",
    "            if reactants[\"group\"] == selector and item not in selected_list_of_reactions:\n",
    "                selected_list_of_reactions.append(item)\n",
    "    if \"Products\" in item:\n",
    "        for products in item[\"Products\"]:\n",
    "            if products[\"group\"] == selector and item not in selected_list_of_reactions:\n",
    "                selected_list_of_reactions.append(item)\n",
    "\n",
    "for item in selected_list_of_reactions:\n",
    "    if \"Products\" in item:\n",
    "        pseudo_nodes_s.append({\"id\": item[\"id\"] + \"s\", \"name\": item[\"id\"] + \"s\", \"group\": \"z\"})\n",
    "        pseudo_nodes_e.append({\"id\": item[\"id\"] + \"e\", \"name\": item[\"id\"] + \"e\", \"group\": \"z\"})\n",
    "        for reactant in item[\"Reactants\"]:\n",
    "            links.append({\"source\": reactant[\"id\"], \"target\": item[\"id\"] + \"s\", \"arrow\": False})\n",
    "            if reactant not in nodes:\n",
    "                nodes.append(reactant)\n",
    "        for product in item[\"Products\"]:\n",
    "            links.append({\"source\": item[\"id\"] + \"e\", \"target\": product[\"id\"], \"arrow\": True})\n",
    "            if product not in nodes:\n",
    "                nodes.append(product)\n",
    "\n",
    "for index, item in enumerate(pseudo_nodes_s):\n",
    "    links.append({\"source\": item[\"id\"], \"target\": pseudo_nodes_e[index][\"id\"], \"arrow\": False})\n",
    "\n",
    "all_nodes = nodes + pseudo_nodes_s + pseudo_nodes_e"
   ]
  },
  {
   "cell_type": "markdown",
   "id": "5dab827e",
   "metadata": {},
   "source": [
    "### Collate data into format suitable for JSON export and further use"
   ]
  },
  {
   "cell_type": "code",
   "execution_count": 99,
   "id": "5c5af382",
   "metadata": {},
   "outputs": [],
   "source": [
    "icardio_n_data= {\"nodes\": [], \"links\": []}\n",
    "icardio_n_data[\"nodes\"] += all_nodes\n",
    "icardio_n_data[\"links\"] += links"
   ]
  },
  {
   "cell_type": "markdown",
   "id": "f33ca758",
   "metadata": {},
   "source": [
    "### Export"
   ]
  },
  {
   "cell_type": "code",
   "execution_count": 7,
   "id": "cf556365",
   "metadata": {},
   "outputs": [
    {
     "ename": "NameError",
     "evalue": "name 'icardio_n_data' is not defined",
     "output_type": "error",
     "traceback": [
      "\u001b[1;31m---------------------------------------------------------------------------\u001b[0m",
      "\u001b[1;31mNameError\u001b[0m                                 Traceback (most recent call last)",
      "Input \u001b[1;32mIn [7]\u001b[0m, in \u001b[0;36m<cell line: 1>\u001b[1;34m()\u001b[0m\n\u001b[1;32m----> 1\u001b[0m json_string \u001b[38;5;241m=\u001b[39m json\u001b[38;5;241m.\u001b[39mdumps(\u001b[43micardio_n_data\u001b[49m)\n\u001b[0;32m      3\u001b[0m \u001b[38;5;28;01mwith\u001b[39;00m \u001b[38;5;28mopen\u001b[39m(\u001b[38;5;124m'\u001b[39m\u001b[38;5;124micardio_n_data.json\u001b[39m\u001b[38;5;124m'\u001b[39m, \u001b[38;5;124m'\u001b[39m\u001b[38;5;124mw\u001b[39m\u001b[38;5;124m'\u001b[39m, encoding\u001b[38;5;241m=\u001b[39m\u001b[38;5;124m'\u001b[39m\u001b[38;5;124mutf-8\u001b[39m\u001b[38;5;124m'\u001b[39m) \u001b[38;5;28;01mas\u001b[39;00m f:\n\u001b[0;32m      4\u001b[0m     json\u001b[38;5;241m.\u001b[39mdump(icardio_n_data, f, ensure_ascii\u001b[38;5;241m=\u001b[39m\u001b[38;5;28;01mFalse\u001b[39;00m, indent\u001b[38;5;241m=\u001b[39m\u001b[38;5;241m4\u001b[39m)\n",
      "\u001b[1;31mNameError\u001b[0m: name 'icardio_n_data' is not defined"
     ]
    }
   ],
   "source": [
    "json_string = json.dumps(icardio_n_data)\n",
    "\n",
    "with open('icardio_n_data.json', 'w', encoding='utf-8') as f:\n",
    "    json.dump(icardio_n_data, f, ensure_ascii=False, indent=4)"
   ]
  },
  {
   "cell_type": "code",
   "execution_count": null,
   "id": "acc5be5d",
   "metadata": {},
   "outputs": [],
   "source": []
  }
 ],
 "metadata": {
  "kernelspec": {
   "display_name": "Python 3 (ipykernel)",
   "language": "python",
   "name": "python3"
  },
  "language_info": {
   "codemirror_mode": {
    "name": "ipython",
    "version": 3
   },
   "file_extension": ".py",
   "mimetype": "text/x-python",
   "name": "python",
   "nbconvert_exporter": "python",
   "pygments_lexer": "ipython3",
   "version": "3.9.12"
  }
 },
 "nbformat": 4,
 "nbformat_minor": 5
}
