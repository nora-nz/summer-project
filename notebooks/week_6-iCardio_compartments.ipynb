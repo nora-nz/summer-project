{
 "cells": [
  {
   "cell_type": "markdown",
   "id": "f3613c3f",
   "metadata": {},
   "source": [
    "# Computer-aided simulation and visualisation of metabolic flux in diabetic cardiomyocytes"
   ]
  },
  {
   "cell_type": "markdown",
   "id": "3d092764",
   "metadata": {},
   "source": [
    "### Aim\n",
    "**Visualise metabolic fluxes** (rate of turnover of a metabolite) to understand how glucose takeup (or lack thereof) affects cardiac output.\n",
    "\n",
    "*Diabetic people have a higher chance of dying of heart failure than non-diabetic people.*"
   ]
  },
  {
   "cell_type": "markdown",
   "id": "2d0c505a",
   "metadata": {},
   "source": [
    "### Hypothesis\n",
    "\n",
    "Cardiac specific insulin resistance → less available glucose → less available ATP → lower cardiac output → heart failure."
   ]
  },
  {
   "cell_type": "markdown",
   "id": "63af7ffe",
   "metadata": {},
   "source": [
    "### Setup"
   ]
  },
  {
   "cell_type": "code",
   "execution_count": 1,
   "id": "9e50a4c7",
   "metadata": {},
   "outputs": [],
   "source": [
    "import xml.dom.minidom\n",
    "import pandas as pd\n",
    "import cobra\n",
    "import json\n",
    "import numpy as np"
   ]
  },
  {
   "cell_type": "code",
   "execution_count": 2,
   "id": "69316136",
   "metadata": {},
   "outputs": [],
   "source": [
    "file = xml.dom.minidom.parse(\"icardio.xml\")"
   ]
  },
  {
   "cell_type": "markdown",
   "id": "72e95efd",
   "metadata": {},
   "source": [
    "### Dataframe"
   ]
  },
  {
   "cell_type": "markdown",
   "id": "0180e156",
   "metadata": {},
   "source": [
    "#### Dataframe makes connection between species names, compartments and IDs"
   ]
  },
  {
   "cell_type": "code",
   "execution_count": 3,
   "id": "36db1f23",
   "metadata": {},
   "outputs": [
    {
     "data": {
      "text/html": [
       "<div>\n",
       "<style scoped>\n",
       "    .dataframe tbody tr th:only-of-type {\n",
       "        vertical-align: middle;\n",
       "    }\n",
       "\n",
       "    .dataframe tbody tr th {\n",
       "        vertical-align: top;\n",
       "    }\n",
       "\n",
       "    .dataframe thead th {\n",
       "        text-align: right;\n",
       "    }\n",
       "</style>\n",
       "<table border=\"1\" class=\"dataframe\">\n",
       "  <thead>\n",
       "    <tr style=\"text-align: right;\">\n",
       "      <th></th>\n",
       "      <th>names</th>\n",
       "      <th>groups</th>\n",
       "      <th>ids</th>\n",
       "    </tr>\n",
       "  </thead>\n",
       "  <tbody>\n",
       "    <tr>\n",
       "      <th>1</th>\n",
       "      <td>(10Z)-heptadecenoic acid</td>\n",
       "      <td>c</td>\n",
       "      <td>m00003__91__c__93__</td>\n",
       "    </tr>\n",
       "    <tr>\n",
       "      <th>2</th>\n",
       "      <td>(10Z)-heptadecenoic acid</td>\n",
       "      <td>r</td>\n",
       "      <td>m00003__91__r__93__</td>\n",
       "    </tr>\n",
       "    <tr>\n",
       "      <th>3</th>\n",
       "      <td>(10Z)-heptadecenoic acid</td>\n",
       "      <td>s</td>\n",
       "      <td>m00003__91__s__93__</td>\n",
       "    </tr>\n",
       "    <tr>\n",
       "      <th>4</th>\n",
       "      <td>(10Z)-heptadecenoyl-CoA</td>\n",
       "      <td>c</td>\n",
       "      <td>m00004__91__c__93__</td>\n",
       "    </tr>\n",
       "    <tr>\n",
       "      <th>5</th>\n",
       "      <td>(10Z)-heptadecenoyl-CoA</td>\n",
       "      <td>m</td>\n",
       "      <td>m00004__91__m__93__</td>\n",
       "    </tr>\n",
       "    <tr>\n",
       "      <th>...</th>\n",
       "      <td>...</td>\n",
       "      <td>...</td>\n",
       "      <td>...</td>\n",
       "    </tr>\n",
       "    <tr>\n",
       "      <th>2886</th>\n",
       "      <td>hyocholoyl-CoA</td>\n",
       "      <td>c</td>\n",
       "      <td>m90185__91__c__93__</td>\n",
       "    </tr>\n",
       "    <tr>\n",
       "      <th>2887</th>\n",
       "      <td>protein</td>\n",
       "      <td>c</td>\n",
       "      <td>m90190__91__c__93__</td>\n",
       "    </tr>\n",
       "    <tr>\n",
       "      <th>2888</th>\n",
       "      <td>glycogen storage pool</td>\n",
       "      <td>c</td>\n",
       "      <td>m90194__91__c__93__</td>\n",
       "    </tr>\n",
       "    <tr>\n",
       "      <th>2889</th>\n",
       "      <td>intracellular lipids</td>\n",
       "      <td>c</td>\n",
       "      <td>m90195__91__c__93__</td>\n",
       "    </tr>\n",
       "    <tr>\n",
       "      <th>2890</th>\n",
       "      <td>misc biomass metabolites</td>\n",
       "      <td>c</td>\n",
       "      <td>m90199__91__c__93__</td>\n",
       "    </tr>\n",
       "  </tbody>\n",
       "</table>\n",
       "<p>2890 rows × 3 columns</p>\n",
       "</div>"
      ],
      "text/plain": [
       "                         names groups                  ids\n",
       "1     (10Z)-heptadecenoic acid      c  m00003__91__c__93__\n",
       "2     (10Z)-heptadecenoic acid      r  m00003__91__r__93__\n",
       "3     (10Z)-heptadecenoic acid      s  m00003__91__s__93__\n",
       "4      (10Z)-heptadecenoyl-CoA      c  m00004__91__c__93__\n",
       "5      (10Z)-heptadecenoyl-CoA      m  m00004__91__m__93__\n",
       "...                        ...    ...                  ...\n",
       "2886            hyocholoyl-CoA      c  m90185__91__c__93__\n",
       "2887                   protein      c  m90190__91__c__93__\n",
       "2888     glycogen storage pool      c  m90194__91__c__93__\n",
       "2889      intracellular lipids      c  m90195__91__c__93__\n",
       "2890  misc biomass metabolites      c  m90199__91__c__93__\n",
       "\n",
       "[2890 rows x 3 columns]"
      ]
     },
     "execution_count": 3,
     "metadata": {},
     "output_type": "execute_result"
    }
   ],
   "source": [
    "model = file.documentElement\n",
    "species = model.getElementsByTagName(\"species\")\n",
    "\n",
    "species_names = []\n",
    "species_groups = []\n",
    "species_ids = []\n",
    "\n",
    "for element in species:\n",
    "    species_names.append(element.getAttribute(\"name\"))\n",
    "    species_groups.append(element.getAttribute(\"compartment\"))\n",
    "    species_ids.append(element.getAttribute(\"id\"))\n",
    "     \n",
    "dataframe = pd.DataFrame({\"names\": species_names, \"groups\": species_groups, \"ids\": species_ids})\n",
    "dataframe.index = np.arange(1, len(dataframe)+1)\n",
    "dataframe"
   ]
  },
  {
   "cell_type": "markdown",
   "id": "46e2c901",
   "metadata": {},
   "source": [
    "### Secondary Dataframe"
   ]
  },
  {
   "cell_type": "markdown",
   "id": "ac645313",
   "metadata": {},
   "source": [
    "#### Dataframe makes connection between reactions and species (separated into reactants and products). The dataframe is also used to arrange the information into a format suitable for export."
   ]
  },
  {
   "cell_type": "code",
   "execution_count": 4,
   "id": "2d90dbd3",
   "metadata": {},
   "outputs": [
    {
     "data": {
      "text/plain": [
       "[{'id': 'RCR10001',\n",
       "  'Reactants': [{'id': 'm01285__91__c__93__', 'name': 'ADP', 'group': 'c'}],\n",
       "  'Products': [{'id': 'm01334__91__c__93__', 'name': 'AMP', 'group': 'c'},\n",
       "   {'id': 'm01371__91__c__93__', 'name': 'ATP', 'group': 'c'}]},\n",
       " {'id': 'RCR10002',\n",
       "  'Reactants': [{'id': 'm01252__91__c__93__', 'name': 'acetate', 'group': 'c'},\n",
       "   {'id': 'm01371__91__c__93__', 'name': 'ATP', 'group': 'c'},\n",
       "   {'id': 'm01597__91__c__93__', 'name': 'CoA', 'group': 'c'}],\n",
       "  'Products': [{'id': 'm01261__91__c__93__',\n",
       "    'name': 'acetyl-CoA',\n",
       "    'group': 'c'},\n",
       "   {'id': 'm01334__91__c__93__', 'name': 'AMP', 'group': 'c'},\n",
       "   {'id': 'm02759__91__c__93__', 'name': 'PPi', 'group': 'c'}]},\n",
       " {'id': 'RCR10004',\n",
       "  'Reactants': [{'id': 'm01285__91__m__93__', 'name': 'ADP', 'group': 'm'}],\n",
       "  'Products': [{'id': 'm01334__91__m__93__', 'name': 'AMP', 'group': 'm'},\n",
       "   {'id': 'm01371__91__m__93__', 'name': 'ATP', 'group': 'm'}]},\n",
       " {'id': 'RCR10005',\n",
       "  'Reactants': [{'id': 'm01369__91__c__93__',\n",
       "    'name': 'asparagine',\n",
       "    'group': 'c'},\n",
       "   {'id': 'm01371__91__c__93__', 'name': 'ATP', 'group': 'c'},\n",
       "   {'id': 'm03065__91__c__93__', 'name': 'tRNA(asn)', 'group': 'c'}],\n",
       "  'Products': [{'id': 'm01334__91__c__93__', 'name': 'AMP', 'group': 'c'},\n",
       "   {'id': 'm02341__91__c__93__',\n",
       "    'name': 'L-asparaginyl-tRNA(asn)',\n",
       "    'group': 'c'},\n",
       "   {'id': 'm02759__91__c__93__', 'name': 'PPi', 'group': 'c'}]},\n",
       " {'id': 'RCR10006',\n",
       "  'Reactants': [{'id': 'm01365__91__c__93__',\n",
       "    'name': 'arginine',\n",
       "    'group': 'c'},\n",
       "   {'id': 'm01371__91__c__93__', 'name': 'ATP', 'group': 'c'},\n",
       "   {'id': 'm03064__91__c__93__', 'name': 'tRNA(arg)', 'group': 'c'}],\n",
       "  'Products': [{'id': 'm01334__91__c__93__', 'name': 'AMP', 'group': 'c'},\n",
       "   {'id': 'm02340__91__c__93__', 'name': 'L-arginyl-tRNA(arg)', 'group': 'c'},\n",
       "   {'id': 'm02759__91__c__93__', 'name': 'PPi', 'group': 'c'}]}]"
      ]
     },
     "execution_count": 4,
     "metadata": {},
     "output_type": "execute_result"
    }
   ],
   "source": [
    "list_of_reactions = []\n",
    "reactions = model.getElementsByTagName(\"reaction\")\n",
    "\n",
    "for reaction in reactions:\n",
    "    this_reaction = {}\n",
    "    this_reaction[\"id\"] = reaction.getAttribute(\"name\")\n",
    "    list_of_reactants = reaction.getElementsByTagName(\"listOfReactants\")\n",
    "    list_of_products = reaction.getElementsByTagName(\"listOfProducts\")\n",
    "    for reactant in list_of_reactants:\n",
    "        this_reaction[\"Reactants\"] = []\n",
    "        species_reference = reactant.getElementsByTagName(\"speciesReference\")\n",
    "        for species in species_reference:\n",
    "            this_reaction[\"Reactants\"].append({\"id\": species.getAttribute(\"species\"),\n",
    "                                               \"name\": dataframe.loc[dataframe[\"ids\"] == species.getAttribute(\"species\"), \"names\"].array[0],\n",
    "                                               \"group\": dataframe.loc[dataframe[\"ids\"] == species.getAttribute(\"species\"), \"groups\"].array[0]})\n",
    "    for product in list_of_products:\n",
    "        this_reaction[\"Products\"] = []\n",
    "        species_reference = product.getElementsByTagName(\"speciesReference\")\n",
    "        for species in species_reference:\n",
    "            this_reaction[\"Products\"].append({\"id\": species.getAttribute(\"species\"),\n",
    "                                               \"name\": dataframe.loc[dataframe[\"ids\"] == species.getAttribute(\"species\"), \"names\"].array[0],\n",
    "                                               \"group\": dataframe.loc[dataframe[\"ids\"] == species.getAttribute(\"species\"), \"groups\"].array[0]})        \n",
    "        \n",
    "    list_of_reactions.append(this_reaction)\n",
    "\n",
    "list_of_reactions[0:5]"
   ]
  },
  {
   "cell_type": "markdown",
   "id": "cc29369d",
   "metadata": {},
   "source": [
    "### Selector"
   ]
  },
  {
   "cell_type": "markdown",
   "id": "224b127f",
   "metadata": {},
   "source": [
    "#### The selector filters nodes and links according to the different compartments (here it is called a \"group\"). The resulting information is also organised into a format suitable for export.\n",
    "\n",
    "Selection was necessary because a graph of the whole dataset is too busy."
   ]
  },
  {
   "cell_type": "code",
   "execution_count": 110,
   "id": "6a646b26",
   "metadata": {},
   "outputs": [
    {
     "name": "stdout",
     "output_type": "stream",
     "text": [
      "This selection has produced: 2281 nodes and 4901 links.\n"
     ]
    }
   ],
   "source": [
    "nodes = []\n",
    "links = []\n",
    "pseudo_nodes_s = []\n",
    "pseudo_nodes_e = []\n",
    "selector = \"s\"\n",
    "selected_list_of_reactions = []\n",
    "\n",
    "\n",
    "for index, item in enumerate(species_ids):\n",
    "    if dataframe.loc[dataframe[\"ids\"] == item, \"groups\"].array[0] == selector:\n",
    "        nodes.append({\"id\": item, \"name\": species_names[index], \"group\": species_groups[index]})\n",
    "\n",
    "for item in list_of_reactions:\n",
    "    for reactants in item[\"Reactants\"]:\n",
    "           if reactants[\"group\"] == selector and item not in selected_list_of_reactions:\n",
    "                selected_list_of_reactions.append(item)\n",
    "    if \"Products\" in item:\n",
    "        for products in item[\"Products\"]:\n",
    "            if products[\"group\"] == selector and item not in selected_list_of_reactions:\n",
    "                selected_list_of_reactions.append(item)\n",
    "\n",
    "for item in selected_list_of_reactions:\n",
    "    if \"Products\" in item:\n",
    "        pseudo_nodes_s.append({\"id\": item[\"id\"] + \"s\", \"name\": item[\"id\"] + \"s\", \"group\": \"z\"})\n",
    "        pseudo_nodes_e.append({\"id\": item[\"id\"] + \"e\", \"name\": item[\"id\"] + \"e\", \"group\": \"z\"})\n",
    "        for reactant in item[\"Reactants\"]:\n",
    "            links.append({\"source\": reactant[\"id\"], \"target\": item[\"id\"] + \"s\", \"arrow\": False})\n",
    "            if reactant not in nodes:\n",
    "                nodes.append(reactant)\n",
    "        for product in item[\"Products\"]:\n",
    "            links.append({\"source\": item[\"id\"] + \"e\", \"target\": product[\"id\"], \"arrow\": True})\n",
    "            if product not in nodes:\n",
    "                nodes.append(product)\n",
    "\n",
    "for index, item in enumerate(pseudo_nodes_s):\n",
    "    links.append({\"source\": item[\"id\"], \"target\": pseudo_nodes_e[index][\"id\"], \"arrow\": False})\n",
    "\n",
    "all_nodes = nodes + pseudo_nodes_s + pseudo_nodes_e\n",
    "    \n",
    "print(\"This selection has produced: \" + str(len(all_nodes)) + \" nodes and \" + str(len(links)) + \" links.\")"
   ]
  },
  {
   "cell_type": "markdown",
   "id": "5dab827e",
   "metadata": {},
   "source": [
    "### Collate data into format suitable for JSON export and further use"
   ]
  },
  {
   "cell_type": "code",
   "execution_count": 6,
   "id": "5c5af382",
   "metadata": {},
   "outputs": [],
   "source": [
    "icardio_s_data= {\"nodes\": [], \"links\": []}\n",
    "icardio_s_data[\"nodes\"] += all_nodes\n",
    "icardio_s_data[\"links\"] += links"
   ]
  },
  {
   "cell_type": "markdown",
   "id": "f33ca758",
   "metadata": {},
   "source": [
    "### Export"
   ]
  },
  {
   "cell_type": "code",
   "execution_count": 7,
   "id": "cf556365",
   "metadata": {},
   "outputs": [],
   "source": [
    "json_string = json.dumps(icardio_s_data)\n",
    "\n",
    "with open('icardio_s_data.json', 'w', encoding='utf-8') as f:\n",
    "    json.dump(icardio_s_data, f, ensure_ascii=False, indent=4)"
   ]
  },
  {
   "cell_type": "markdown",
   "id": "bce619da",
   "metadata": {},
   "source": [
    "### Pathways"
   ]
  },
  {
   "cell_type": "markdown",
   "id": "52b5cac0",
   "metadata": {},
   "source": [
    "#### This code collects information about the different metabolic pathways specified in the iCardio model."
   ]
  },
  {
   "cell_type": "code",
   "execution_count": 8,
   "id": "49462a89",
   "metadata": {},
   "outputs": [
    {
     "name": "stdout",
     "output_type": "stream",
     "text": [
      "\n",
      "Alanine aspartate and glutamate metabolism\n",
      "Arachidonic acid metabolism\n",
      "Arginine and proline metabolism\n",
      "Aromatic amino acid metabolism\n",
      "Beta oxidation of fatty acids\n",
      "Bile acid metabolism\n",
      "Biomass\n",
      "Carbohydrate metabolism\n",
      "Central carbon metabolism\n",
      "Cholesterol metabolism\n",
      "Cholesterol-ester metabolism\n",
      "Cysteine and methionine metabolism\n",
      "Eicosanoid metabolism\n",
      "Electron transport chain\n",
      "Exchange\n",
      "Fatty acid metabolism\n",
      "Glutathione metabolism\n",
      "Glycan metabolism\n",
      "Glycerolipid metabolism\n",
      "Glycine serine and threonine metabolism\n",
      "Inositol phosphate metabolism\n",
      "Lysine metabolism\n",
      "Miscellaneous\n",
      "Nucleotide metabolism\n",
      "Omega-3 fatty acid metabolism\n",
      "Omega-6 fatty acid metabolism\n",
      "Pentose phosphate pathway\n",
      "Porphyrin metabolism\n",
      "Protein metabolism\n",
      "Proteoglycan metabolism\n",
      "Purine metabolism\n",
      "Pyrimidine metabolism\n",
      "Serotonin and melatonin biosynthesis\n",
      "Sphingolipid metabolism\n",
      "Steroid metabolism\n",
      "Transport\n",
      "Valine leucine and isoleucine metabolism\n",
      "Vitamin A metabolism\n",
      "Vitamin B metabolism\n",
      "Vitamin C metabolism\n",
      "Vitamin D metabolism\n",
      "Xenobiotics metabolism\n",
      "beta-Alanine metabolism\n"
     ]
    }
   ],
   "source": [
    "pathways = model.getElementsByTagName(\"groups:group\")\n",
    "len(pathways)\n",
    "\n",
    "for pathway in pathways:\n",
    "    print(pathway.getAttribute(\"groups:name\"))"
   ]
  },
  {
   "cell_type": "markdown",
   "id": "cfa22ba8",
   "metadata": {},
   "source": [
    "#### The below code collects information about all pathways and arranges it into the below format. (Takes about 2 minutes to run)"
   ]
  },
  {
   "cell_type": "code",
   "execution_count": 112,
   "id": "82efa395",
   "metadata": {
    "scrolled": false
   },
   "outputs": [
    {
     "name": "stdout",
     "output_type": "stream",
     "text": [
      "{'name': 'Alanine aspartate and glutamate metabolism',\n",
      " 'Reactions': [{'id': 'RCR10001',\n",
      "   'Reactants': [{'id': 'm01285__91__c__93__', 'name': 'ADP', 'group': 'c'}],\n",
      "   'Products': [{'id': 'm01334__91__c__93__', 'name': 'AMP', 'group': 'c'},\n",
      "    {'id': 'm01371__91__c__93__', 'name': 'ATP', 'group': 'c'}]},\n"
     ]
    }
   ],
   "source": [
    "list_of_pathways = []\n",
    "for item in pathways:\n",
    "    if item.hasAttribute(\"groups:name\"):\n",
    "        name = item.getAttribute(\"groups:name\")\n",
    "    list_of_members = item.getElementsByTagName(\"groups:listOfMembers\")\n",
    "    for member in list_of_members:\n",
    "        member_rxn = member.getElementsByTagName(\"groups:member\")\n",
    "        name_list = []\n",
    "        for rxn in member_rxn:\n",
    "            rxn_item = {}\n",
    "            rxn_item[\"id\"] = rxn.getAttribute(\"groups:idRef\")\n",
    "            for item in list_of_reactions:\n",
    "                if item[\"id\"] == rxn_item[\"id\"]:\n",
    "                    rxn_item[\"Reactants\"] = item[\"Reactants\"]\n",
    "                    if \"Products\" in item:\n",
    "                        rxn_item[\"Products\"] = item[\"Products\"]\n",
    "            name_list.append(rxn_item)\n",
    "        pathway_dict = {}\n",
    "        pathway_dict[\"name\"] = name\n",
    "        pathway_dict[\"Reactions\"] = name_list\n",
    "        list_of_pathways.append(pathway_dict)\n",
    "\n",
    "print(\"\"\"{'name': 'Alanine aspartate and glutamate metabolism',\n",
    " 'Reactions': [{'id': 'RCR10001',\n",
    "   'Reactants': [{'id': 'm01285__91__c__93__', 'name': 'ADP', 'group': 'c'}],\n",
    "   'Products': [{'id': 'm01334__91__c__93__', 'name': 'AMP', 'group': 'c'},\n",
    "    {'id': 'm01371__91__c__93__', 'name': 'ATP', 'group': 'c'}]},\"\"\")\n",
    "\n"
   ]
  },
  {
   "cell_type": "markdown",
   "id": "59b083f7",
   "metadata": {},
   "source": [
    "#### Selection of the fatty acid metabolism pathway below.\n",
    "\n",
    "The fatty acid metabolism pathway was picked because heart muscle cells can use fatty acids as an alternative energy source when ATP is low."
   ]
  },
  {
   "cell_type": "code",
   "execution_count": 111,
   "id": "1123d79a",
   "metadata": {},
   "outputs": [
    {
     "name": "stdout",
     "output_type": "stream",
     "text": [
      "Number of reactions in the fatty acid metabolism pathway: 4198\n"
     ]
    }
   ],
   "source": [
    "fatty_acid = list_of_pathways[15]\n",
    "\n",
    "counter = 0\n",
    "for item in fatty_acid[\"Reactions\"]:\n",
    "    counter += 1\n",
    "    \n",
    "print(\"Number of reactions in the fatty acid metabolism pathway: \" + str(counter))"
   ]
  },
  {
   "cell_type": "markdown",
   "id": "89a58147",
   "metadata": {},
   "source": [
    "#### The below code gathers information about the reactants and products in all reactions of the fatty acid metabolism pathway and organises it into a suitable format."
   ]
  },
  {
   "cell_type": "code",
   "execution_count": 114,
   "id": "3ed50e5f",
   "metadata": {},
   "outputs": [
    {
     "name": "stdout",
     "output_type": "stream",
     "text": [
      "There are 2890 individual species, 4042 reactions that have products, and 22663 links will be shown between the reaction participants.\n"
     ]
    }
   ],
   "source": [
    "nodes_FA = []\n",
    "links_FA = []\n",
    "links_FA_2 = []\n",
    "pseudo_nodes_s_FA = []\n",
    "pseudo_nodes_e_FA = []\n",
    "\n",
    "for item in fatty_acid[\"Reactions\"]:\n",
    "    for reactant in item[\"Reactants\"]:\n",
    "        if reactant not in nodes_FA:\n",
    "            nodes_FA.append(reactant)\n",
    "    if \"Products\" in item:\n",
    "        pseudo_nodes_s_FA.append({\"id\": item[\"id\"] + \"s\", \"name\": item[\"id\"] + \"s\", \"group\": \"z\"})\n",
    "        pseudo_nodes_e_FA.append({\"id\": item[\"id\"] + \"e\", \"name\": item[\"id\"] + \"e\", \"group\": \"z\"})\n",
    "        for reactant in item[\"Reactants\"]:\n",
    "            links_FA.append({\"source\": reactant[\"id\"], \"target\": item[\"id\"] + \"s\"})\n",
    "        for product in item[\"Products\"]:\n",
    "            links_FA.append({\"source\": item[\"id\"] + \"e\", \"target\": product[\"id\"]})\n",
    "            if product not in nodes_FA:\n",
    "                nodes_FA.append(product)\n",
    "for item in pseudo_nodes_s_FA:\n",
    "    links_FA_2.append({\"source\": item[\"id\"], \"target\": item[\"id\"].replace(\"s\", \"e\")})\n",
    "\n",
    "all_nodes_FA = nodes_FA + pseudo_nodes_s_FA + pseudo_nodes_e_FA\n",
    "all_links_FA = links_FA + links_FA_2\n",
    "\n",
    "print(\"There are \" + str(len(nodes_FA)) + \" individual species, \" + str(len(pseudo_nodes_s_FA)) + \" reactions that have products, and \" + str(len(all_links_FA)) + \" links will be shown between the reaction participants.\")"
   ]
  },
  {
   "cell_type": "markdown",
   "id": "2ee03446",
   "metadata": {},
   "source": [
    "### Collate data into format suitable for JSON export and further use"
   ]
  },
  {
   "cell_type": "code",
   "execution_count": 13,
   "id": "d04a1a8c",
   "metadata": {},
   "outputs": [],
   "source": [
    "icardio_fatty_acid= {\"nodes\": [], \"links\": []}\n",
    "icardio_fatty_acid[\"nodes\"] += all_nodes_FA\n",
    "icardio_fatty_acid[\"links\"] += all_links_FA"
   ]
  },
  {
   "cell_type": "markdown",
   "id": "22ec701c",
   "metadata": {},
   "source": [
    "### Export"
   ]
  },
  {
   "cell_type": "code",
   "execution_count": 14,
   "id": "2cece5f2",
   "metadata": {},
   "outputs": [],
   "source": [
    "json_string = json.dumps(icardio_fatty_acid)\n",
    "\n",
    "with open('icardio_fatty_acid.json', 'w', encoding='utf-8') as f:\n",
    "    json.dump(icardio_fatty_acid, f, ensure_ascii=False, indent=4)"
   ]
  },
  {
   "cell_type": "markdown",
   "id": "656413ea",
   "metadata": {},
   "source": [
    "### COnstraint-Based Reconstruction and Analysis (COBRA)"
   ]
  },
  {
   "cell_type": "code",
   "execution_count": 15,
   "id": "e16f03ee",
   "metadata": {},
   "outputs": [
    {
     "name": "stdout",
     "output_type": "stream",
     "text": [
      "Set parameter Username\n",
      "Academic license - for non-commercial use only - expires 2023-06-11\n"
     ]
    },
    {
     "data": {
      "text/html": [
       "<strong><em>Optimal</em> solution with objective value 909.472</strong><br><div>\n",
       "<style scoped>\n",
       "    .dataframe tbody tr th:only-of-type {\n",
       "        vertical-align: middle;\n",
       "    }\n",
       "\n",
       "    .dataframe tbody tr th {\n",
       "        vertical-align: top;\n",
       "    }\n",
       "\n",
       "    .dataframe thead th {\n",
       "        text-align: right;\n",
       "    }\n",
       "</style>\n",
       "<table border=\"1\" class=\"dataframe\">\n",
       "  <thead>\n",
       "    <tr style=\"text-align: right;\">\n",
       "      <th></th>\n",
       "      <th>fluxes</th>\n",
       "      <th>reduced_costs</th>\n",
       "    </tr>\n",
       "  </thead>\n",
       "  <tbody>\n",
       "    <tr>\n",
       "      <th>RCR10001</th>\n",
       "      <td>736.646705</td>\n",
       "      <td>0.000000</td>\n",
       "    </tr>\n",
       "    <tr>\n",
       "      <th>RCR10002</th>\n",
       "      <td>0.000000</td>\n",
       "      <td>-0.333330</td>\n",
       "    </tr>\n",
       "    <tr>\n",
       "      <th>RCR10004</th>\n",
       "      <td>0.000000</td>\n",
       "      <td>0.000000</td>\n",
       "    </tr>\n",
       "    <tr>\n",
       "      <th>RCR10005</th>\n",
       "      <td>70.938840</td>\n",
       "      <td>0.000000</td>\n",
       "    </tr>\n",
       "    <tr>\n",
       "      <th>RCR10006</th>\n",
       "      <td>32.741003</td>\n",
       "      <td>0.000000</td>\n",
       "    </tr>\n",
       "    <tr>\n",
       "      <th>...</th>\n",
       "      <td>...</td>\n",
       "      <td>...</td>\n",
       "    </tr>\n",
       "    <tr>\n",
       "      <th>RCR90207</th>\n",
       "      <td>0.000000</td>\n",
       "      <td>0.000000</td>\n",
       "    </tr>\n",
       "    <tr>\n",
       "      <th>RCR90208</th>\n",
       "      <td>0.000000</td>\n",
       "      <td>-0.583327</td>\n",
       "    </tr>\n",
       "    <tr>\n",
       "      <th>RCR90209</th>\n",
       "      <td>0.000000</td>\n",
       "      <td>0.000000</td>\n",
       "    </tr>\n",
       "    <tr>\n",
       "      <th>RCR90210</th>\n",
       "      <td>-16.571649</td>\n",
       "      <td>0.000000</td>\n",
       "    </tr>\n",
       "    <tr>\n",
       "      <th>RCR90211</th>\n",
       "      <td>0.000000</td>\n",
       "      <td>-0.316088</td>\n",
       "    </tr>\n",
       "  </tbody>\n",
       "</table>\n",
       "<p>4200 rows × 2 columns</p>\n",
       "</div>"
      ],
      "text/plain": [
       "<Solution 909.472 at 0x15dd372e790>"
      ]
     },
     "execution_count": 15,
     "metadata": {},
     "output_type": "execute_result"
    }
   ],
   "source": [
    "wildtype = cobra.io.read_sbml_model(\"icardio.xml\")\n",
    "optim_dataset = wildtype.optimize()\n",
    "optim_dataset"
   ]
  },
  {
   "cell_type": "code",
   "execution_count": 31,
   "id": "f977712a",
   "metadata": {},
   "outputs": [
    {
     "name": "stdout",
     "output_type": "stream",
     "text": [
      "1.0*RCR90143 - 1.0*RCR90143_reverse_0dca8\n"
     ]
    }
   ],
   "source": [
    "print(wildtype.objective.expression)"
   ]
  },
  {
   "cell_type": "code",
   "execution_count": 33,
   "id": "b11bba3f",
   "metadata": {},
   "outputs": [],
   "source": [
    "wildtype.objective = \"RCR20085\""
   ]
  },
  {
   "cell_type": "code",
   "execution_count": 34,
   "id": "30c25c79",
   "metadata": {},
   "outputs": [
    {
     "name": "stdout",
     "output_type": "stream",
     "text": [
      "1.0*RCR20085 - 1.0*RCR20085_reverse_38999\n"
     ]
    }
   ],
   "source": [
    "print(wildtype.objective.expression)"
   ]
  },
  {
   "cell_type": "code",
   "execution_count": 116,
   "id": "19907c47",
   "metadata": {},
   "outputs": [
    {
     "name": "stdout",
     "output_type": "stream",
     "text": [
      "max\n"
     ]
    }
   ],
   "source": [
    "print(wildtype.objective.direction)"
   ]
  },
  {
   "cell_type": "code",
   "execution_count": 35,
   "id": "fb1d524c",
   "metadata": {},
   "outputs": [
    {
     "data": {
      "text/html": [
       "<strong><em>Optimal</em> solution with objective value 1000.000</strong><br><div>\n",
       "<style scoped>\n",
       "    .dataframe tbody tr th:only-of-type {\n",
       "        vertical-align: middle;\n",
       "    }\n",
       "\n",
       "    .dataframe tbody tr th {\n",
       "        vertical-align: top;\n",
       "    }\n",
       "\n",
       "    .dataframe thead th {\n",
       "        text-align: right;\n",
       "    }\n",
       "</style>\n",
       "<table border=\"1\" class=\"dataframe\">\n",
       "  <thead>\n",
       "    <tr style=\"text-align: right;\">\n",
       "      <th></th>\n",
       "      <th>fluxes</th>\n",
       "      <th>reduced_costs</th>\n",
       "    </tr>\n",
       "  </thead>\n",
       "  <tbody>\n",
       "    <tr>\n",
       "      <th>RCR10001</th>\n",
       "      <td>736.646705</td>\n",
       "      <td>0.0</td>\n",
       "    </tr>\n",
       "    <tr>\n",
       "      <th>RCR10002</th>\n",
       "      <td>0.000000</td>\n",
       "      <td>0.0</td>\n",
       "    </tr>\n",
       "    <tr>\n",
       "      <th>RCR10004</th>\n",
       "      <td>0.000000</td>\n",
       "      <td>0.0</td>\n",
       "    </tr>\n",
       "    <tr>\n",
       "      <th>RCR10005</th>\n",
       "      <td>70.938840</td>\n",
       "      <td>0.0</td>\n",
       "    </tr>\n",
       "    <tr>\n",
       "      <th>RCR10006</th>\n",
       "      <td>32.741003</td>\n",
       "      <td>0.0</td>\n",
       "    </tr>\n",
       "    <tr>\n",
       "      <th>...</th>\n",
       "      <td>...</td>\n",
       "      <td>...</td>\n",
       "    </tr>\n",
       "    <tr>\n",
       "      <th>RCR90207</th>\n",
       "      <td>0.000000</td>\n",
       "      <td>0.0</td>\n",
       "    </tr>\n",
       "    <tr>\n",
       "      <th>RCR90208</th>\n",
       "      <td>0.000000</td>\n",
       "      <td>-0.0</td>\n",
       "    </tr>\n",
       "    <tr>\n",
       "      <th>RCR90209</th>\n",
       "      <td>0.000000</td>\n",
       "      <td>0.0</td>\n",
       "    </tr>\n",
       "    <tr>\n",
       "      <th>RCR90210</th>\n",
       "      <td>-16.571649</td>\n",
       "      <td>-0.0</td>\n",
       "    </tr>\n",
       "    <tr>\n",
       "      <th>RCR90211</th>\n",
       "      <td>0.000000</td>\n",
       "      <td>-0.0</td>\n",
       "    </tr>\n",
       "  </tbody>\n",
       "</table>\n",
       "<p>4200 rows × 2 columns</p>\n",
       "</div>"
      ],
      "text/plain": [
       "<Solution 1000.000 at 0x15dd980fac0>"
      ]
     },
     "execution_count": 35,
     "metadata": {},
     "output_type": "execute_result"
    }
   ],
   "source": [
    "RCR20085_dataset = wildtype.optimize()\n",
    "RCR20085_dataset"
   ]
  },
  {
   "cell_type": "code",
   "execution_count": 36,
   "id": "0683adc2",
   "metadata": {},
   "outputs": [
    {
     "name": "stdout",
     "output_type": "stream",
     "text": [
      "4200\n"
     ]
    }
   ],
   "source": [
    "negative_colours = [\"#0000ff\", \"#7145ff\", \"#a074ff\", \"#c4a2ff\", \"#e3d0ff\", \"#ffffff\"] #blue -> white\n",
    "\n",
    "positive_colours = [\"#ffffff\", \"#ffd9cb\", \"#ffb299\", \"#ff8969\", \"#ff5b3a\", \"#ff0000\"] #white -> red\n",
    "\n",
    "rxn_names = [_.name for _ in wildtype.reactions]\n",
    "rxn_wt_flux = [_.flux for _ in wildtype.reactions]\n",
    "\n",
    "colours = []\n",
    "for flux in rxn_wt_flux:\n",
    "    if -1000 <= flux <= -800:\n",
    "        colours.append(\"#0000ff\")\n",
    "    elif -800 < flux <= -600:\n",
    "        colours.append(\"#7145ff\")\n",
    "    elif -600 < flux <= -400:\n",
    "        colours.append(\"#a074ff\")\n",
    "    elif -400 < flux <= -200:\n",
    "        colours.append(\"#c4a2ff\")\n",
    "    elif -200 < flux < 0:\n",
    "        colours.append(\"#e3d0ff\")\n",
    "    elif flux == 0:\n",
    "        colours.append(\"#ffffff\")\n",
    "    elif 0 < flux <= 200:\n",
    "        colours.append(\"#ffd9cb\")\n",
    "    elif 200 < flux <= 400:\n",
    "        colours.append(\"#ffb299\")\n",
    "    elif 400 < flux <= 600:\n",
    "        colours.append(\"#ff8969\")\n",
    "    elif 600 < flux <= 800:\n",
    "        colours.append(\"#ff5b3a\")\n",
    "    elif 800 < flux <= 1000:\n",
    "        colours.append(\"#ff0000\")\n",
    "\n",
    "print(len(colours))"
   ]
  },
  {
   "cell_type": "code",
   "execution_count": 37,
   "id": "f2213890",
   "metadata": {},
   "outputs": [
    {
     "name": "stdout",
     "output_type": "stream",
     "text": [
      "4200\n"
     ]
    },
    {
     "data": {
      "text/html": [
       "<div>\n",
       "<style scoped>\n",
       "    .dataframe tbody tr th:only-of-type {\n",
       "        vertical-align: middle;\n",
       "    }\n",
       "\n",
       "    .dataframe tbody tr th {\n",
       "        vertical-align: top;\n",
       "    }\n",
       "\n",
       "    .dataframe thead th {\n",
       "        text-align: right;\n",
       "    }\n",
       "</style>\n",
       "<table border=\"1\" class=\"dataframe\">\n",
       "  <thead>\n",
       "    <tr style=\"text-align: right;\">\n",
       "      <th></th>\n",
       "      <th>fluxes</th>\n",
       "      <th>colours</th>\n",
       "    </tr>\n",
       "  </thead>\n",
       "  <tbody>\n",
       "    <tr>\n",
       "      <th>RCR10001</th>\n",
       "      <td>736.646705</td>\n",
       "      <td>#ff5b3a</td>\n",
       "    </tr>\n",
       "    <tr>\n",
       "      <th>RCR10002</th>\n",
       "      <td>0.000000</td>\n",
       "      <td>#ffffff</td>\n",
       "    </tr>\n",
       "    <tr>\n",
       "      <th>RCR10004</th>\n",
       "      <td>0.000000</td>\n",
       "      <td>#ffffff</td>\n",
       "    </tr>\n",
       "    <tr>\n",
       "      <th>RCR10005</th>\n",
       "      <td>70.938840</td>\n",
       "      <td>#ffd9cb</td>\n",
       "    </tr>\n",
       "    <tr>\n",
       "      <th>RCR10006</th>\n",
       "      <td>32.741003</td>\n",
       "      <td>#ffd9cb</td>\n",
       "    </tr>\n",
       "    <tr>\n",
       "      <th>...</th>\n",
       "      <td>...</td>\n",
       "      <td>...</td>\n",
       "    </tr>\n",
       "    <tr>\n",
       "      <th>RCR90207</th>\n",
       "      <td>0.000000</td>\n",
       "      <td>#ffffff</td>\n",
       "    </tr>\n",
       "    <tr>\n",
       "      <th>RCR90208</th>\n",
       "      <td>0.000000</td>\n",
       "      <td>#ffffff</td>\n",
       "    </tr>\n",
       "    <tr>\n",
       "      <th>RCR90209</th>\n",
       "      <td>0.000000</td>\n",
       "      <td>#ffffff</td>\n",
       "    </tr>\n",
       "    <tr>\n",
       "      <th>RCR90210</th>\n",
       "      <td>-16.571649</td>\n",
       "      <td>#e3d0ff</td>\n",
       "    </tr>\n",
       "    <tr>\n",
       "      <th>RCR90211</th>\n",
       "      <td>0.000000</td>\n",
       "      <td>#ffffff</td>\n",
       "    </tr>\n",
       "  </tbody>\n",
       "</table>\n",
       "<p>4200 rows × 2 columns</p>\n",
       "</div>"
      ],
      "text/plain": [
       "              fluxes  colours\n",
       "RCR10001  736.646705  #ff5b3a\n",
       "RCR10002    0.000000  #ffffff\n",
       "RCR10004    0.000000  #ffffff\n",
       "RCR10005   70.938840  #ffd9cb\n",
       "RCR10006   32.741003  #ffd9cb\n",
       "...              ...      ...\n",
       "RCR90207    0.000000  #ffffff\n",
       "RCR90208    0.000000  #ffffff\n",
       "RCR90209    0.000000  #ffffff\n",
       "RCR90210  -16.571649  #e3d0ff\n",
       "RCR90211    0.000000  #ffffff\n",
       "\n",
       "[4200 rows x 2 columns]"
      ]
     },
     "execution_count": 37,
     "metadata": {},
     "output_type": "execute_result"
    }
   ],
   "source": [
    "reaction_ids = []\n",
    "for reaction in reactions:\n",
    "    reaction_ids.append(reaction.getAttribute(\"name\"))\n",
    "    \n",
    "print(len(reaction_ids))\n",
    "\n",
    "asdf = pd.DataFrame({\"fluxes\": rxn_wt_flux, \"colours\": colours})\n",
    "asdf.index = reaction_ids\n",
    "asdf"
   ]
  },
  {
   "cell_type": "code",
   "execution_count": 62,
   "id": "806f2b55",
   "metadata": {},
   "outputs": [
    {
     "name": "stdout",
     "output_type": "stream",
     "text": [
      "505\n",
      "888\n",
      "888\n",
      "2281\n",
      "4901\n",
      "1041\n"
     ]
    }
   ],
   "source": [
    "nodes_FA2 = []\n",
    "links_FA2 = []\n",
    "pseudo_nodes_s_FA2 = []\n",
    "pseudo_nodes_e_FA2 = []\n",
    "selector_FA2 = \"s\"\n",
    "selected_list_of_reactions_FA2 = []\n",
    "\n",
    "for item in nodes_FA:\n",
    "    if item[\"group\"] == selector_FA2:\n",
    "        nodes_FA2.append(item)\n",
    "\n",
    "for item in fatty_acid[\"Reactions\"]:\n",
    "    for reactant in item[\"Reactants\"]:\n",
    "        if reactant[\"group\"] == selector_FA2 and item not in selected_list_of_reactions_FA2:\n",
    "                selected_list_of_reactions_FA2.append(item)\n",
    "    if \"Products\" in item:\n",
    "        for product in item[\"Products\"]:\n",
    "            if product[\"group\"] == selector_FA2 and item not in selected_list_of_reactions_FA2:\n",
    "                selected_list_of_reactions_FA2.append(item)\n",
    "\n",
    "for item in selected_list_of_reactions_FA2:\n",
    "    if \"Products\" in item:\n",
    "        pseudo_nodes_s_FA2.append({\"id\": item[\"id\"] + \"s\", \"name\": item[\"id\"] + \"s\", \"group\": \"z\"})\n",
    "        pseudo_nodes_e_FA2.append({\"id\": item[\"id\"] + \"e\", \"name\": item[\"id\"] + \"e\", \"group\": \"z\"})\n",
    "        for reactant in item[\"Reactants\"]:\n",
    "            links_FA2.append({\"source\": reactant[\"id\"], \"target\": item[\"id\"] + \"s\", \"arrow\": False, \"colour\": asdf.loc[item[\"id\"], \"colours\"]})\n",
    "            if reactant not in nodes_FA2:\n",
    "                nodes_FA2.append(reactant)\n",
    "        for product in item[\"Products\"]:\n",
    "            links_FA2.append({\"source\": item[\"id\"] + \"e\", \"target\": product[\"id\"], \"arrow\": True, \"colour\": asdf.loc[item[\"id\"], \"colours\"]})\n",
    "            if product not in nodes_FA2:\n",
    "                nodes_FA2.append(product)\n",
    "\n",
    "for index, item in enumerate(pseudo_nodes_s_FA2):\n",
    "    links_FA2.append({\"source\": item[\"id\"], \"target\": pseudo_nodes_e_FA2[index][\"id\"], \"arrow\": False, \"colour\": asdf.loc[item[\"id\"].replace(\"s\", \"\").replace(\"e\", \"\"), \"colours\"]})\n",
    "\n",
    "all_nodes_FA2 = nodes_FA2 + pseudo_nodes_s_FA2 + pseudo_nodes_e_FA2\n",
    "\n",
    "print(len(nodes_FA2))\n",
    "print(len(pseudo_nodes_s_FA2))\n",
    "print(len(pseudo_nodes_e_FA2))\n",
    "print(len(all_nodes_FA2))\n",
    "print(len(links_FA2))\n",
    "print(len(selected_list_of_reactions_FA2))\n"
   ]
  },
  {
   "cell_type": "code",
   "execution_count": 63,
   "id": "87aa8562",
   "metadata": {},
   "outputs": [],
   "source": [
    "icardio_fatty_acid_s= {\"nodes\": [], \"links\": []}\n",
    "icardio_fatty_acid_s[\"nodes\"] += all_nodes_FA2\n",
    "icardio_fatty_acid_s[\"links\"] += links_FA2"
   ]
  },
  {
   "cell_type": "code",
   "execution_count": 64,
   "id": "a3a3154b",
   "metadata": {},
   "outputs": [],
   "source": [
    "json_string = json.dumps(icardio_fatty_acid_s)\n",
    "\n",
    "with open('icardio_fatty_acid_s.json', 'w', encoding='utf-8') as f:\n",
    "    json.dump(icardio_fatty_acid_s, f, ensure_ascii=False, indent=4)"
   ]
  },
  {
   "cell_type": "markdown",
   "id": "29ba14f5",
   "metadata": {},
   "source": [
    "### Generate perturbed data"
   ]
  },
  {
   "cell_type": "code",
   "execution_count": 67,
   "id": "2ef2d2fa",
   "metadata": {},
   "outputs": [
    {
     "name": "stdout",
     "output_type": "stream",
     "text": [
      "1.0*RCR90143 - 1.0*RCR90143_reverse_0dca8\n"
     ]
    }
   ],
   "source": [
    "perturbed = cobra.io.read_sbml_model(\"icardio.xml\")\n",
    "print(perturbed.objective.expression)"
   ]
  },
  {
   "cell_type": "code",
   "execution_count": 68,
   "id": "a446f988",
   "metadata": {},
   "outputs": [
    {
     "name": "stdout",
     "output_type": "stream",
     "text": [
      "1.0*RCR20085 - 1.0*RCR20085_reverse_38999\n"
     ]
    }
   ],
   "source": [
    "perturbed.objective = \"RCR20085\"\n",
    "print(perturbed.objective.expression)"
   ]
  },
  {
   "cell_type": "code",
   "execution_count": 69,
   "id": "c91d2d82",
   "metadata": {},
   "outputs": [],
   "source": [
    "glc_c_to_s = perturbed.reactions.get_by_id(\"RCR41035\")\n",
    "glc_s_to_c = perturbed.reactions.get_by_id(\"RCR40464\")\n",
    "glc_c_to_g = perturbed.reactions.get_by_id(\"RCR20130\")\n",
    "glc_c_to_r = perturbed.reactions.get_by_id(\"RCR20071\")"
   ]
  },
  {
   "cell_type": "code",
   "execution_count": 70,
   "id": "029b5824",
   "metadata": {},
   "outputs": [],
   "source": [
    "glc_c_to_s.lower_bound, glc_c_to_s.upper_bound = 0, 0\n",
    "glc_s_to_c.lower_bound, glc_c_to_s.upper_bound = 0, 0\n",
    "glc_c_to_g.lower_bound, glc_c_to_s.upper_bound = 0, 0\n",
    "glc_c_to_r.lower_bound, glc_c_to_s.upper_bound = 0, 0"
   ]
  },
  {
   "cell_type": "code",
   "execution_count": 71,
   "id": "c75841de",
   "metadata": {},
   "outputs": [
    {
     "data": {
      "text/html": [
       "<strong><em>Optimal</em> solution with objective value 1000.000</strong><br><div>\n",
       "<style scoped>\n",
       "    .dataframe tbody tr th:only-of-type {\n",
       "        vertical-align: middle;\n",
       "    }\n",
       "\n",
       "    .dataframe tbody tr th {\n",
       "        vertical-align: top;\n",
       "    }\n",
       "\n",
       "    .dataframe thead th {\n",
       "        text-align: right;\n",
       "    }\n",
       "</style>\n",
       "<table border=\"1\" class=\"dataframe\">\n",
       "  <thead>\n",
       "    <tr style=\"text-align: right;\">\n",
       "      <th></th>\n",
       "      <th>fluxes</th>\n",
       "      <th>reduced_costs</th>\n",
       "    </tr>\n",
       "  </thead>\n",
       "  <tbody>\n",
       "    <tr>\n",
       "      <th>RCR10001</th>\n",
       "      <td>0.0</td>\n",
       "      <td>-0.0</td>\n",
       "    </tr>\n",
       "    <tr>\n",
       "      <th>RCR10002</th>\n",
       "      <td>0.0</td>\n",
       "      <td>0.0</td>\n",
       "    </tr>\n",
       "    <tr>\n",
       "      <th>RCR10004</th>\n",
       "      <td>-500.0</td>\n",
       "      <td>-0.0</td>\n",
       "    </tr>\n",
       "    <tr>\n",
       "      <th>RCR10005</th>\n",
       "      <td>0.0</td>\n",
       "      <td>0.0</td>\n",
       "    </tr>\n",
       "    <tr>\n",
       "      <th>RCR10006</th>\n",
       "      <td>0.0</td>\n",
       "      <td>0.0</td>\n",
       "    </tr>\n",
       "    <tr>\n",
       "      <th>...</th>\n",
       "      <td>...</td>\n",
       "      <td>...</td>\n",
       "    </tr>\n",
       "    <tr>\n",
       "      <th>RCR90207</th>\n",
       "      <td>0.0</td>\n",
       "      <td>0.0</td>\n",
       "    </tr>\n",
       "    <tr>\n",
       "      <th>RCR90208</th>\n",
       "      <td>0.0</td>\n",
       "      <td>0.0</td>\n",
       "    </tr>\n",
       "    <tr>\n",
       "      <th>RCR90209</th>\n",
       "      <td>0.0</td>\n",
       "      <td>0.0</td>\n",
       "    </tr>\n",
       "    <tr>\n",
       "      <th>RCR90210</th>\n",
       "      <td>0.0</td>\n",
       "      <td>-0.0</td>\n",
       "    </tr>\n",
       "    <tr>\n",
       "      <th>RCR90211</th>\n",
       "      <td>0.0</td>\n",
       "      <td>0.0</td>\n",
       "    </tr>\n",
       "  </tbody>\n",
       "</table>\n",
       "<p>4200 rows × 2 columns</p>\n",
       "</div>"
      ],
      "text/plain": [
       "<Solution 1000.000 at 0x15de2217880>"
      ]
     },
     "execution_count": 71,
     "metadata": {},
     "output_type": "execute_result"
    }
   ],
   "source": [
    "perturbed.optimize()"
   ]
  },
  {
   "cell_type": "code",
   "execution_count": 72,
   "id": "f784591c",
   "metadata": {},
   "outputs": [],
   "source": [
    "perturbed_rxn_names = [_.name for _ in perturbed.reactions]\n",
    "perturbed_flux = [_.flux for _ in perturbed.reactions]\n",
    "\n",
    "colours = []\n",
    "for flux in perturbed_flux:\n",
    "    if -1000 <= flux <= -800:\n",
    "        colours.append(\"#0000ff\")\n",
    "    elif -800 < flux <= -600:\n",
    "        colours.append(\"#7145ff\")\n",
    "    elif -600 < flux <= -400:\n",
    "        colours.append(\"#a074ff\")\n",
    "    elif -400 < flux <= -200:\n",
    "        colours.append(\"#c4a2ff\")\n",
    "    elif -200 < flux < 0:\n",
    "        colours.append(\"#e3d0ff\")\n",
    "    elif flux == 0:\n",
    "        colours.append(\"#ffffff\")\n",
    "    elif 0 < flux <= 200:\n",
    "        colours.append(\"#ffd9cb\")\n",
    "    elif 200 < flux <= 400:\n",
    "        colours.append(\"#ffb299\")\n",
    "    elif 400 < flux <= 600:\n",
    "        colours.append(\"#ff8969\")\n",
    "    elif 600 < flux <= 800:\n",
    "        colours.append(\"#ff5b3a\")\n",
    "    elif 800 < flux <= 1000:\n",
    "        colours.append(\"#ff0000\")"
   ]
  },
  {
   "cell_type": "code",
   "execution_count": 73,
   "id": "022d318a",
   "metadata": {},
   "outputs": [
    {
     "data": {
      "text/plain": [
       "4200"
      ]
     },
     "execution_count": 73,
     "metadata": {},
     "output_type": "execute_result"
    }
   ],
   "source": [
    "len(colours)"
   ]
  },
  {
   "cell_type": "code",
   "execution_count": 74,
   "id": "54b13252",
   "metadata": {},
   "outputs": [
    {
     "data": {
      "text/html": [
       "<div>\n",
       "<style scoped>\n",
       "    .dataframe tbody tr th:only-of-type {\n",
       "        vertical-align: middle;\n",
       "    }\n",
       "\n",
       "    .dataframe tbody tr th {\n",
       "        vertical-align: top;\n",
       "    }\n",
       "\n",
       "    .dataframe thead th {\n",
       "        text-align: right;\n",
       "    }\n",
       "</style>\n",
       "<table border=\"1\" class=\"dataframe\">\n",
       "  <thead>\n",
       "    <tr style=\"text-align: right;\">\n",
       "      <th></th>\n",
       "      <th>fluxes</th>\n",
       "      <th>colours</th>\n",
       "    </tr>\n",
       "  </thead>\n",
       "  <tbody>\n",
       "    <tr>\n",
       "      <th>RCR10001</th>\n",
       "      <td>0.0</td>\n",
       "      <td>#ffffff</td>\n",
       "    </tr>\n",
       "    <tr>\n",
       "      <th>RCR10002</th>\n",
       "      <td>0.0</td>\n",
       "      <td>#ffffff</td>\n",
       "    </tr>\n",
       "    <tr>\n",
       "      <th>RCR10004</th>\n",
       "      <td>-500.0</td>\n",
       "      <td>#a074ff</td>\n",
       "    </tr>\n",
       "    <tr>\n",
       "      <th>RCR10005</th>\n",
       "      <td>0.0</td>\n",
       "      <td>#ffffff</td>\n",
       "    </tr>\n",
       "    <tr>\n",
       "      <th>RCR10006</th>\n",
       "      <td>0.0</td>\n",
       "      <td>#ffffff</td>\n",
       "    </tr>\n",
       "    <tr>\n",
       "      <th>...</th>\n",
       "      <td>...</td>\n",
       "      <td>...</td>\n",
       "    </tr>\n",
       "    <tr>\n",
       "      <th>RCR90207</th>\n",
       "      <td>0.0</td>\n",
       "      <td>#ffffff</td>\n",
       "    </tr>\n",
       "    <tr>\n",
       "      <th>RCR90208</th>\n",
       "      <td>0.0</td>\n",
       "      <td>#ffffff</td>\n",
       "    </tr>\n",
       "    <tr>\n",
       "      <th>RCR90209</th>\n",
       "      <td>0.0</td>\n",
       "      <td>#ffffff</td>\n",
       "    </tr>\n",
       "    <tr>\n",
       "      <th>RCR90210</th>\n",
       "      <td>0.0</td>\n",
       "      <td>#ffffff</td>\n",
       "    </tr>\n",
       "    <tr>\n",
       "      <th>RCR90211</th>\n",
       "      <td>0.0</td>\n",
       "      <td>#ffffff</td>\n",
       "    </tr>\n",
       "  </tbody>\n",
       "</table>\n",
       "<p>4200 rows × 2 columns</p>\n",
       "</div>"
      ],
      "text/plain": [
       "          fluxes  colours\n",
       "RCR10001     0.0  #ffffff\n",
       "RCR10002     0.0  #ffffff\n",
       "RCR10004  -500.0  #a074ff\n",
       "RCR10005     0.0  #ffffff\n",
       "RCR10006     0.0  #ffffff\n",
       "...          ...      ...\n",
       "RCR90207     0.0  #ffffff\n",
       "RCR90208     0.0  #ffffff\n",
       "RCR90209     0.0  #ffffff\n",
       "RCR90210     0.0  #ffffff\n",
       "RCR90211     0.0  #ffffff\n",
       "\n",
       "[4200 rows x 2 columns]"
      ]
     },
     "execution_count": 74,
     "metadata": {},
     "output_type": "execute_result"
    }
   ],
   "source": [
    "perturbed_dataframe = pd.DataFrame({\"fluxes\": perturbed_flux, \"colours\": colours})\n",
    "perturbed_dataframe.index = reaction_ids\n",
    "perturbed_dataframe"
   ]
  },
  {
   "cell_type": "code",
   "execution_count": 100,
   "id": "8860b27d",
   "metadata": {},
   "outputs": [
    {
     "name": "stdout",
     "output_type": "stream",
     "text": [
      "505\n",
      "888\n",
      "888\n",
      "2281\n",
      "4901\n",
      "1041\n"
     ]
    }
   ],
   "source": [
    "nodes_perturbed = []\n",
    "links_perturbed = []\n",
    "pseudo_nodes_s_perturbed = []\n",
    "pseudo_nodes_e_perturbed = []\n",
    "selector_perturbed = \"s\"\n",
    "selected_list_of_reactions_perturbed = []\n",
    "\n",
    "for item in nodes_FA:\n",
    "    if item[\"group\"] == selector_perturbed:\n",
    "        nodes_perturbed.append(item)\n",
    "\n",
    "for item in fatty_acid[\"Reactions\"]:\n",
    "    for reactant in item[\"Reactants\"]:\n",
    "        if reactant[\"group\"] == selector_perturbed and item not in selected_list_of_reactions_perturbed:\n",
    "                selected_list_of_reactions_perturbed.append(item)\n",
    "    if \"Products\" in item:\n",
    "        for product in item[\"Products\"]:\n",
    "            if product[\"group\"] == selector_perturbed and item not in selected_list_of_reactions_perturbed:\n",
    "                selected_list_of_reactions_perturbed.append(item)\n",
    "\n",
    "for item in selected_list_of_reactions_perturbed:\n",
    "    if \"Products\" in item:\n",
    "        pseudo_nodes_s_perturbed.append({\"id\": item[\"id\"] + \"s\", \"name\": item[\"id\"] + \"s\", \"group\": \"z\"})\n",
    "        pseudo_nodes_e_perturbed.append({\"id\": item[\"id\"] + \"e\", \"name\": item[\"id\"] + \"e\", \"group\": \"z\"})\n",
    "        for reactant in item[\"Reactants\"]:\n",
    "            links_perturbed.append({\"source\": reactant[\"id\"], \"target\": item[\"id\"] + \"s\", \"arrow\": False, \"colour\": perturbed_dataframe.loc[item[\"id\"], \"colours\"]})\n",
    "            if reactant not in nodes_perturbed:\n",
    "                nodes_perturbed.append(reactant)\n",
    "        for product in item[\"Products\"]:\n",
    "            links_perturbed.append({\"source\": item[\"id\"] + \"e\", \"target\": product[\"id\"], \"arrow\": True, \"colour\": perturbed_dataframe.loc[item[\"id\"], \"colours\"]})\n",
    "            if product not in nodes_perturbed:\n",
    "                nodes_perturbed.append(product)\n",
    "\n",
    "for index, item in enumerate(pseudo_nodes_s_perturbed):\n",
    "    links_perturbed.append({\"source\": item[\"id\"], \"target\": pseudo_nodes_e_perturbed[index][\"id\"], \"arrow\": False, \"colour\": perturbed_dataframe.loc[item[\"id\"].replace(\"s\", \"\").replace(\"e\", \"\"), \"colours\"]})\n",
    "\n",
    "all_nodes_perturbed = nodes_perturbed + pseudo_nodes_s_perturbed + pseudo_nodes_e_perturbed\n",
    "\n",
    "print(len(nodes_perturbed))\n",
    "print(len(pseudo_nodes_s_perturbed))\n",
    "print(len(pseudo_nodes_e_perturbed))\n",
    "print(len(all_nodes_perturbed))\n",
    "print(len(links_perturbed))\n",
    "print(len(selected_list_of_reactions_perturbed))\n"
   ]
  },
  {
   "cell_type": "code",
   "execution_count": 101,
   "id": "6a9fe02e",
   "metadata": {},
   "outputs": [],
   "source": [
    "icardio_fatty_acid_s_perturbed= {\"nodes\": [], \"links\": []}\n",
    "icardio_fatty_acid_s_perturbed[\"nodes\"] += all_nodes_perturbed\n",
    "icardio_fatty_acid_s_perturbed[\"links\"] += links_perturbed"
   ]
  },
  {
   "cell_type": "code",
   "execution_count": 102,
   "id": "04d2121b",
   "metadata": {},
   "outputs": [],
   "source": [
    "json_string = json.dumps(icardio_fatty_acid_s_perturbed)\n",
    "\n",
    "with open('icardio_fatty_acid_s_perturbed.json', 'w', encoding='utf-8') as f:\n",
    "    json.dump(icardio_fatty_acid_s_perturbed, f, ensure_ascii=False, indent=4)"
   ]
  },
  {
   "cell_type": "code",
   "execution_count": null,
   "id": "304d875b",
   "metadata": {},
   "outputs": [],
   "source": []
  }
 ],
 "metadata": {
  "kernelspec": {
   "display_name": "Python 3 (ipykernel)",
   "language": "python",
   "name": "python3"
  },
  "language_info": {
   "codemirror_mode": {
    "name": "ipython",
    "version": 3
   },
   "file_extension": ".py",
   "mimetype": "text/x-python",
   "name": "python",
   "nbconvert_exporter": "python",
   "pygments_lexer": "ipython3",
   "version": "3.9.12"
  }
 },
 "nbformat": 4,
 "nbformat_minor": 5
}
