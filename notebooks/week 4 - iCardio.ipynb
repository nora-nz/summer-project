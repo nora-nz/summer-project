{
 "cells": [
  {
   "cell_type": "markdown",
   "id": "2a2efc8a",
   "metadata": {},
   "source": [
    "# iCardio XML parser and data assembly"
   ]
  },
  {
   "cell_type": "markdown",
   "id": "d1cef49b",
   "metadata": {},
   "source": [
    "### Imports"
   ]
  },
  {
   "cell_type": "code",
   "execution_count": 2,
   "id": "e130696a",
   "metadata": {},
   "outputs": [],
   "source": [
    "import xml.dom.minidom\n",
    "import pandas as pd\n",
    "import cobra\n",
    "import json\n",
    "import numpy as np"
   ]
  },
  {
   "cell_type": "code",
   "execution_count": 13,
   "id": "9752cc95",
   "metadata": {
    "scrolled": false
   },
   "outputs": [],
   "source": [
    "file = xml.dom.minidom.parse(\"icardio.xml\")"
   ]
  },
  {
   "cell_type": "markdown",
   "id": "52eaf683",
   "metadata": {},
   "source": [
    "### Species names, locations and ids dataframe"
   ]
  },
  {
   "cell_type": "code",
   "execution_count": 16,
   "id": "55530bc6",
   "metadata": {},
   "outputs": [
    {
     "data": {
      "text/html": [
       "<div>\n",
       "<style scoped>\n",
       "    .dataframe tbody tr th:only-of-type {\n",
       "        vertical-align: middle;\n",
       "    }\n",
       "\n",
       "    .dataframe tbody tr th {\n",
       "        vertical-align: top;\n",
       "    }\n",
       "\n",
       "    .dataframe thead th {\n",
       "        text-align: right;\n",
       "    }\n",
       "</style>\n",
       "<table border=\"1\" class=\"dataframe\">\n",
       "  <thead>\n",
       "    <tr style=\"text-align: right;\">\n",
       "      <th></th>\n",
       "      <th>index</th>\n",
       "      <th>names</th>\n",
       "      <th>groups</th>\n",
       "      <th>ids</th>\n",
       "    </tr>\n",
       "  </thead>\n",
       "  <tbody>\n",
       "    <tr>\n",
       "      <th>1</th>\n",
       "      <td>1</td>\n",
       "      <td>(10Z)-heptadecenoic acid</td>\n",
       "      <td>c</td>\n",
       "      <td>m00003__91__c__93__</td>\n",
       "    </tr>\n",
       "    <tr>\n",
       "      <th>2</th>\n",
       "      <td>2</td>\n",
       "      <td>(10Z)-heptadecenoic acid</td>\n",
       "      <td>r</td>\n",
       "      <td>m00003__91__r__93__</td>\n",
       "    </tr>\n",
       "    <tr>\n",
       "      <th>3</th>\n",
       "      <td>3</td>\n",
       "      <td>(10Z)-heptadecenoic acid</td>\n",
       "      <td>s</td>\n",
       "      <td>m00003__91__s__93__</td>\n",
       "    </tr>\n",
       "    <tr>\n",
       "      <th>4</th>\n",
       "      <td>4</td>\n",
       "      <td>(10Z)-heptadecenoyl-CoA</td>\n",
       "      <td>c</td>\n",
       "      <td>m00004__91__c__93__</td>\n",
       "    </tr>\n",
       "    <tr>\n",
       "      <th>5</th>\n",
       "      <td>5</td>\n",
       "      <td>(10Z)-heptadecenoyl-CoA</td>\n",
       "      <td>m</td>\n",
       "      <td>m00004__91__m__93__</td>\n",
       "    </tr>\n",
       "    <tr>\n",
       "      <th>...</th>\n",
       "      <td>...</td>\n",
       "      <td>...</td>\n",
       "      <td>...</td>\n",
       "      <td>...</td>\n",
       "    </tr>\n",
       "    <tr>\n",
       "      <th>2886</th>\n",
       "      <td>2886</td>\n",
       "      <td>hyocholoyl-CoA</td>\n",
       "      <td>c</td>\n",
       "      <td>m90185__91__c__93__</td>\n",
       "    </tr>\n",
       "    <tr>\n",
       "      <th>2887</th>\n",
       "      <td>2887</td>\n",
       "      <td>protein</td>\n",
       "      <td>c</td>\n",
       "      <td>m90190__91__c__93__</td>\n",
       "    </tr>\n",
       "    <tr>\n",
       "      <th>2888</th>\n",
       "      <td>2888</td>\n",
       "      <td>glycogen storage pool</td>\n",
       "      <td>c</td>\n",
       "      <td>m90194__91__c__93__</td>\n",
       "    </tr>\n",
       "    <tr>\n",
       "      <th>2889</th>\n",
       "      <td>2889</td>\n",
       "      <td>intracellular lipids</td>\n",
       "      <td>c</td>\n",
       "      <td>m90195__91__c__93__</td>\n",
       "    </tr>\n",
       "    <tr>\n",
       "      <th>2890</th>\n",
       "      <td>2890</td>\n",
       "      <td>misc biomass metabolites</td>\n",
       "      <td>c</td>\n",
       "      <td>m90199__91__c__93__</td>\n",
       "    </tr>\n",
       "  </tbody>\n",
       "</table>\n",
       "<p>2890 rows × 4 columns</p>\n",
       "</div>"
      ],
      "text/plain": [
       "      index                     names groups                  ids\n",
       "1         1  (10Z)-heptadecenoic acid      c  m00003__91__c__93__\n",
       "2         2  (10Z)-heptadecenoic acid      r  m00003__91__r__93__\n",
       "3         3  (10Z)-heptadecenoic acid      s  m00003__91__s__93__\n",
       "4         4   (10Z)-heptadecenoyl-CoA      c  m00004__91__c__93__\n",
       "5         5   (10Z)-heptadecenoyl-CoA      m  m00004__91__m__93__\n",
       "...     ...                       ...    ...                  ...\n",
       "2886   2886            hyocholoyl-CoA      c  m90185__91__c__93__\n",
       "2887   2887                   protein      c  m90190__91__c__93__\n",
       "2888   2888     glycogen storage pool      c  m90194__91__c__93__\n",
       "2889   2889      intracellular lipids      c  m90195__91__c__93__\n",
       "2890   2890  misc biomass metabolites      c  m90199__91__c__93__\n",
       "\n",
       "[2890 rows x 4 columns]"
      ]
     },
     "execution_count": 16,
     "metadata": {},
     "output_type": "execute_result"
    }
   ],
   "source": [
    "model = file.documentElement\n",
    "species = model.getElementsByTagName(\"species\")\n",
    "reactions = model.getElementsByTagName(\"reaction\")\n",
    "reactants = model.getElementsByTagName(\"listOfReactants\")\n",
    "products = model.getElementsByTagName(\"listOfProducts\")\n",
    "species_names = []\n",
    "species_groups = []\n",
    "species_ids = []\n",
    "nodes = []\n",
    "links = []\n",
    "\n",
    "for element in species:\n",
    "    species_names.append(element.getAttribute(\"name\"))\n",
    "    species_groups.append(element.getAttribute(\"compartment\"))\n",
    "    species_ids.append(element.getAttribute(\"id\"))\n",
    "     \n",
    "dataframe = pd.DataFrame({\"index\": np.arange(1, len(dataframe)+1), \"names\": species_names, \"groups\": species_groups, \"ids\": species_ids})\n",
    "dataframe.index = np.arange(1, len(dataframe)+1)\n",
    "dataframe"
   ]
  },
  {
   "cell_type": "code",
   "execution_count": 17,
   "id": "ef242013",
   "metadata": {},
   "outputs": [
    {
     "name": "stdout",
     "output_type": "stream",
     "text": [
      "['c', 'r', 's', 'm', 'p', 'g', 'l', 'n']\n"
     ]
    }
   ],
   "source": [
    "first_of_type = []\n",
    "type_counter = []\n",
    "for x in species_groups:\n",
    "    if x in type_counter:\n",
    "        pass\n",
    "    else:\n",
    "        type_counter.append(x)\n",
    "\n",
    "for types in type_counter:\n",
    "    foo = dataframe.loc[dataframe[\"groups\"] == types, \"index\"].array[0]\n",
    "    first_of_type.append(foo)\n",
    "    \n",
    "print(type_counter)\n"
   ]
  },
  {
   "cell_type": "code",
   "execution_count": 18,
   "id": "059f7c99",
   "metadata": {},
   "outputs": [
    {
     "name": "stdout",
     "output_type": "stream",
     "text": [
      "4200\n"
     ]
    }
   ],
   "source": [
    "node_names = []\n",
    "asdf = []\n",
    "newdataframe = pd.DataFrame({\"id\": species_ids, \"name\": species_names})\n",
    "\n",
    "for reactant in reactants:\n",
    "    list_of_reactants = reactant.getElementsByTagName(\"speciesReference\")\n",
    "    nameids = []\n",
    "    for item in list_of_reactants:\n",
    "        nameids.append(item.getAttribute(\"species\"))\n",
    "    asdf.append(nameids)\n",
    "        \n",
    "for x in asdf:\n",
    "    node_names_x = []\n",
    "    for y in x:\n",
    "        boo = newdataframe.loc[newdataframe[\"id\"] == y, \"name\"].array[0]\n",
    "        node_names_x.append(boo)\n",
    "    node_names.append(node_names_x)\n",
    "\n",
    "string_names = []\n",
    "for name in node_names:\n",
    "    string_names.append(\" + \".join(name))\n",
    "\n",
    "print(len(string_names))"
   ]
  },
  {
   "cell_type": "code",
   "execution_count": 20,
   "id": "702db2f2",
   "metadata": {},
   "outputs": [],
   "source": [
    "product_nodes = []\n",
    "asdfp = []\n",
    "\n",
    "for reaction in reactions:\n",
    "    products_in_reaction = reaction.getElementsByTagName(\"listOfProducts\")\n",
    "    if len(products_in_reaction) != 0:\n",
    "        for item in products_in_reaction:\n",
    "            list_of_products = item.getElementsByTagName(\"speciesReference\")\n",
    "            prod_nameids = []\n",
    "            for item in list_of_products:\n",
    "                prod_nameids.append(item.getAttribute(\"species\"))\n",
    "            asdfp.append(prod_nameids)        \n",
    "    elif len(products_in_reaction) == 0:\n",
    "        asdfp.append(\"\")\n",
    "           \n",
    "for x in asdfp:\n",
    "    product_nodes_x = []\n",
    "    for y in x:\n",
    "        boop = newdataframe.loc[newdataframe[\"id\"] == y, \"name\"].array[0]\n",
    "        product_nodes_x.append(boop)\n",
    "    product_nodes.append(product_nodes_x)\n",
    "\n",
    "string_products = []\n",
    "for name in product_nodes:\n",
    "    string_products.append(\" + \".join(name))"
   ]
  },
  {
   "cell_type": "code",
   "execution_count": 21,
   "id": "a3a5c702",
   "metadata": {},
   "outputs": [
    {
     "name": "stdout",
     "output_type": "stream",
     "text": [
      "8400\n"
     ]
    }
   ],
   "source": [
    "combined_nodes = string_names + string_products\n",
    "print(len(combined_nodes))"
   ]
  },
  {
   "cell_type": "code",
   "execution_count": 22,
   "id": "91fbd793",
   "metadata": {},
   "outputs": [],
   "source": [
    "types_list = []\n",
    "newdataframe2 = pd.DataFrame({\"id\": species_ids, \"type\": species_groups})\n",
    "        \n",
    "for x in asdf:\n",
    "    node_types_x = []\n",
    "    for y in x:\n",
    "        boo2 = newdataframe2.loc[newdataframe2[\"id\"] == y, \"type\"].array[0]\n",
    "        node_types_x.append(boo2)\n",
    "    types_list.append(node_types_x[0])"
   ]
  },
  {
   "cell_type": "code",
   "execution_count": 23,
   "id": "f672e47d",
   "metadata": {},
   "outputs": [
    {
     "name": "stdout",
     "output_type": "stream",
     "text": [
      "4200\n"
     ]
    }
   ],
   "source": [
    "prod_types = []\n",
    "for x in asdfp:\n",
    "    if x == \"\":\n",
    "        prod_types.append(\"\")\n",
    "    else:\n",
    "        prod_node_types_x = []\n",
    "        for y in x:\n",
    "            boop2 = newdataframe2.loc[newdataframe2[\"id\"] == y, \"type\"].array[0]\n",
    "            prod_node_types_x.append(boop2)\n",
    "        prod_types.append(prod_node_types_x[0])\n",
    "\n",
    "print(len(prod_types))"
   ]
  },
  {
   "cell_type": "code",
   "execution_count": 24,
   "id": "3ca99b9e",
   "metadata": {},
   "outputs": [
    {
     "name": "stdout",
     "output_type": "stream",
     "text": [
      "8400\n"
     ]
    }
   ],
   "source": [
    "combined_types = types_list + prod_types\n",
    "print(len(combined_types))"
   ]
  },
  {
   "cell_type": "code",
   "execution_count": 25,
   "id": "b96e5d4b",
   "metadata": {},
   "outputs": [
    {
     "name": "stdout",
     "output_type": "stream",
     "text": [
      "4200\n"
     ]
    }
   ],
   "source": [
    "reactant_ids = []\n",
    "product_ids = []\n",
    "\n",
    "for reactant in reactants:\n",
    "    reactant_ids.append(reactant.parentNode.getAttribute(\"name\") + \"s\")\n",
    "\n",
    "for reaction in reactions:\n",
    "    products_in_reaction = reaction.getElementsByTagName(\"listOfProducts\")\n",
    "    if len(products_in_reaction) == 0:\n",
    "        product_ids.append(\"\")\n",
    "    else:\n",
    "        product_ids.append(reaction.getAttribute(\"name\") + \"e\")\n",
    "\n",
    "print(len(product_ids))"
   ]
  },
  {
   "cell_type": "code",
   "execution_count": 26,
   "id": "dc996ae6",
   "metadata": {},
   "outputs": [
    {
     "name": "stdout",
     "output_type": "stream",
     "text": [
      "8400\n"
     ]
    }
   ],
   "source": [
    "combined_ids = reactant_ids + product_ids\n",
    "print(len(combined_ids))"
   ]
  },
  {
   "cell_type": "code",
   "execution_count": 6,
   "id": "342dc1a1",
   "metadata": {
    "scrolled": true
   },
   "outputs": [
    {
     "data": {
      "text/html": [
       "<strong><em>Optimal</em> solution with objective value 909.472</strong><br><div>\n",
       "<style scoped>\n",
       "    .dataframe tbody tr th:only-of-type {\n",
       "        vertical-align: middle;\n",
       "    }\n",
       "\n",
       "    .dataframe tbody tr th {\n",
       "        vertical-align: top;\n",
       "    }\n",
       "\n",
       "    .dataframe thead th {\n",
       "        text-align: right;\n",
       "    }\n",
       "</style>\n",
       "<table border=\"1\" class=\"dataframe\">\n",
       "  <thead>\n",
       "    <tr style=\"text-align: right;\">\n",
       "      <th></th>\n",
       "      <th>fluxes</th>\n",
       "      <th>reduced_costs</th>\n",
       "    </tr>\n",
       "  </thead>\n",
       "  <tbody>\n",
       "    <tr>\n",
       "      <th>RCR10001</th>\n",
       "      <td>736.646705</td>\n",
       "      <td>0.000000</td>\n",
       "    </tr>\n",
       "    <tr>\n",
       "      <th>RCR10002</th>\n",
       "      <td>0.000000</td>\n",
       "      <td>-0.333330</td>\n",
       "    </tr>\n",
       "    <tr>\n",
       "      <th>RCR10004</th>\n",
       "      <td>0.000000</td>\n",
       "      <td>0.000000</td>\n",
       "    </tr>\n",
       "    <tr>\n",
       "      <th>RCR10005</th>\n",
       "      <td>70.938840</td>\n",
       "      <td>0.000000</td>\n",
       "    </tr>\n",
       "    <tr>\n",
       "      <th>RCR10006</th>\n",
       "      <td>32.741003</td>\n",
       "      <td>0.000000</td>\n",
       "    </tr>\n",
       "    <tr>\n",
       "      <th>...</th>\n",
       "      <td>...</td>\n",
       "      <td>...</td>\n",
       "    </tr>\n",
       "    <tr>\n",
       "      <th>RCR90207</th>\n",
       "      <td>0.000000</td>\n",
       "      <td>0.000000</td>\n",
       "    </tr>\n",
       "    <tr>\n",
       "      <th>RCR90208</th>\n",
       "      <td>0.000000</td>\n",
       "      <td>-0.583327</td>\n",
       "    </tr>\n",
       "    <tr>\n",
       "      <th>RCR90209</th>\n",
       "      <td>0.000000</td>\n",
       "      <td>0.000000</td>\n",
       "    </tr>\n",
       "    <tr>\n",
       "      <th>RCR90210</th>\n",
       "      <td>-16.571649</td>\n",
       "      <td>0.000000</td>\n",
       "    </tr>\n",
       "    <tr>\n",
       "      <th>RCR90211</th>\n",
       "      <td>0.000000</td>\n",
       "      <td>-0.316088</td>\n",
       "    </tr>\n",
       "  </tbody>\n",
       "</table>\n",
       "<p>4200 rows × 2 columns</p>\n",
       "</div>"
      ],
      "text/plain": [
       "<Solution 909.472 at 0x27193d30520>"
      ]
     },
     "execution_count": 6,
     "metadata": {},
     "output_type": "execute_result"
    }
   ],
   "source": [
    "wildtype = cobra.io.read_sbml_model(\"icardio.xml\")\n",
    "optim_dataset = wildtype.optimize()\n",
    "optim_dataset"
   ]
  },
  {
   "cell_type": "code",
   "execution_count": 44,
   "id": "24ceedaa",
   "metadata": {},
   "outputs": [
    {
     "name": "stdout",
     "output_type": "stream",
     "text": [
      "4200\n"
     ]
    }
   ],
   "source": [
    "negative_colours = [\"#426f87\", \"#1f839c\", \"#0097a9\", \"#00abad\", \"#00bea7\", \"#00d098\", \"#41e081\", \"#84ee63\", \"#c0f93f\", \"#ffff06\"]\n",
    "#negative colours are blue -> green -> yellow\n",
    "positive_colours = [\"#f6ff00\", \"#fcea00\", \"#ffd500\", \"#ffc000\", \"#ffa900\", \"#ff9200\", \"#ff7a00\", \"#ff5f00\", \"#fe4000\", \"#f80000\"]\n",
    "#positive colours are yellow -> orange -> red\n",
    "\n",
    "\n",
    "rxn_names = [_.name for _ in wildtype.reactions]\n",
    "rxn_wt_flux = [_.flux for _ in wildtype.reactions]\n",
    "\n",
    "colours = []\n",
    "for flux in rxn_wt_flux:\n",
    "    if -1000 <= flux <= -900:\n",
    "        colours.append(\"#426f87\")\n",
    "    elif -900 < flux <= -800:\n",
    "        colours.append(\"#1f839c\")\n",
    "    elif -800 < flux <= -700:\n",
    "        colours.append(\"#0097a9\")\n",
    "    elif -700 < flux <= -600:\n",
    "        colours.append(\"#00abad\")\n",
    "    elif -600 < flux <= -500:\n",
    "        colours.append(\"#00bea7\")\n",
    "    elif -500 < flux <= -400:\n",
    "        colours.append(\"#00d098\")\n",
    "    elif -400 < flux <= -300:\n",
    "        colours.append(\"#41e081\")\n",
    "    elif -300 < flux <= -200:\n",
    "        colours.append(\"#84ee63\")\n",
    "    elif -200 < flux <= -100:\n",
    "        colours.append(\"#c0f93f\")\n",
    "    elif -100 < flux <= 0:\n",
    "        colours.append(\"#ffffff\")\n",
    "    elif 0 < flux <= 100:\n",
    "        colours.append(\"#c0f93f\")\n",
    "    elif 100 < flux <= 200:\n",
    "        colours.append(\"#fcea00\")\n",
    "    elif 200 < flux <= 300:\n",
    "        colours.append(\"#ffd500\")\n",
    "    elif 300 < flux <= 400:\n",
    "        colours.append(\"#ffc000\")\n",
    "    elif 400 < flux <= 500:\n",
    "        colours.append(\"#ffa900\")\n",
    "    elif 500 < flux <= 600:\n",
    "        colours.append(\"#ff9200\")\n",
    "    elif 600 < flux <= 700:\n",
    "        colours.append(\"#ff7a00\")\n",
    "    elif 700 < flux <= 800:\n",
    "        colours.append(\"#ff5f00\")\n",
    "    elif 800 < flux <= 900:\n",
    "        colours.append(\"#fe4000\")\n",
    "    elif 900 < flux <= 1000:\n",
    "        colours.append(\"#f80000\")\n",
    "\n",
    "print(len(colours))"
   ]
  },
  {
   "cell_type": "code",
   "execution_count": 45,
   "id": "2b20c215",
   "metadata": {},
   "outputs": [
    {
     "data": {
      "text/html": [
       "<div>\n",
       "<style scoped>\n",
       "    .dataframe tbody tr th:only-of-type {\n",
       "        vertical-align: middle;\n",
       "    }\n",
       "\n",
       "    .dataframe tbody tr th {\n",
       "        vertical-align: top;\n",
       "    }\n",
       "\n",
       "    .dataframe thead th {\n",
       "        text-align: right;\n",
       "    }\n",
       "</style>\n",
       "<table border=\"1\" class=\"dataframe\">\n",
       "  <thead>\n",
       "    <tr style=\"text-align: right;\">\n",
       "      <th></th>\n",
       "      <th>fluxes</th>\n",
       "      <th>colours</th>\n",
       "    </tr>\n",
       "  </thead>\n",
       "  <tbody>\n",
       "    <tr>\n",
       "      <th>0</th>\n",
       "      <td>736.646705</td>\n",
       "      <td>#ff5f00</td>\n",
       "    </tr>\n",
       "    <tr>\n",
       "      <th>1</th>\n",
       "      <td>0.000000</td>\n",
       "      <td>#ffffff</td>\n",
       "    </tr>\n",
       "    <tr>\n",
       "      <th>2</th>\n",
       "      <td>0.000000</td>\n",
       "      <td>#ffffff</td>\n",
       "    </tr>\n",
       "    <tr>\n",
       "      <th>3</th>\n",
       "      <td>70.938840</td>\n",
       "      <td>#c0f93f</td>\n",
       "    </tr>\n",
       "    <tr>\n",
       "      <th>4</th>\n",
       "      <td>32.741003</td>\n",
       "      <td>#c0f93f</td>\n",
       "    </tr>\n",
       "    <tr>\n",
       "      <th>...</th>\n",
       "      <td>...</td>\n",
       "      <td>...</td>\n",
       "    </tr>\n",
       "    <tr>\n",
       "      <th>4195</th>\n",
       "      <td>0.000000</td>\n",
       "      <td>#ffffff</td>\n",
       "    </tr>\n",
       "    <tr>\n",
       "      <th>4196</th>\n",
       "      <td>0.000000</td>\n",
       "      <td>#ffffff</td>\n",
       "    </tr>\n",
       "    <tr>\n",
       "      <th>4197</th>\n",
       "      <td>0.000000</td>\n",
       "      <td>#ffffff</td>\n",
       "    </tr>\n",
       "    <tr>\n",
       "      <th>4198</th>\n",
       "      <td>-16.571649</td>\n",
       "      <td>#ffffff</td>\n",
       "    </tr>\n",
       "    <tr>\n",
       "      <th>4199</th>\n",
       "      <td>0.000000</td>\n",
       "      <td>#ffffff</td>\n",
       "    </tr>\n",
       "  </tbody>\n",
       "</table>\n",
       "<p>4200 rows × 2 columns</p>\n",
       "</div>"
      ],
      "text/plain": [
       "          fluxes  colours\n",
       "0     736.646705  #ff5f00\n",
       "1       0.000000  #ffffff\n",
       "2       0.000000  #ffffff\n",
       "3      70.938840  #c0f93f\n",
       "4      32.741003  #c0f93f\n",
       "...          ...      ...\n",
       "4195    0.000000  #ffffff\n",
       "4196    0.000000  #ffffff\n",
       "4197    0.000000  #ffffff\n",
       "4198  -16.571649  #ffffff\n",
       "4199    0.000000  #ffffff\n",
       "\n",
       "[4200 rows x 2 columns]"
      ]
     },
     "execution_count": 45,
     "metadata": {},
     "output_type": "execute_result"
    }
   ],
   "source": [
    "asdf = pd.DataFrame({\"fluxes\": rxn_wt_flux, \"colours\": colours})\n",
    "asdf"
   ]
  },
  {
   "cell_type": "code",
   "execution_count": 46,
   "id": "6d7000df",
   "metadata": {
    "scrolled": false
   },
   "outputs": [
    {
     "name": "stdout",
     "output_type": "stream",
     "text": [
      "8400\n"
     ]
    }
   ],
   "source": [
    "nodes = []\n",
    "for index, item in enumerate(combined_ids):\n",
    "    node = {\"name\": str(combined_nodes[index]), \"group\": combined_types[index], \"id\": item}\n",
    "    nodes.append(node)\n",
    "\n",
    "print(len(nodes))"
   ]
  },
  {
   "cell_type": "code",
   "execution_count": 47,
   "id": "28a83e7a",
   "metadata": {},
   "outputs": [
    {
     "name": "stdout",
     "output_type": "stream",
     "text": [
      "4200\n"
     ]
    }
   ],
   "source": [
    "links = []\n",
    "\n",
    "for index, number in enumerate(reactant_ids):\n",
    "    link = {\"source\": number, \"target\": product_ids[index], \"value\": colours[index]}\n",
    "    links.append(link)\n",
    "\n",
    "print(len(links))"
   ]
  },
  {
   "cell_type": "code",
   "execution_count": 48,
   "id": "002c25f9",
   "metadata": {},
   "outputs": [],
   "source": [
    "icardio_data = {\"nodes\": [], \"links\": []}\n",
    "icardio_data[\"nodes\"] += nodes\n",
    "icardio_data[\"links\"] += links"
   ]
  },
  {
   "cell_type": "code",
   "execution_count": 49,
   "id": "9a6781da",
   "metadata": {},
   "outputs": [],
   "source": [
    "json_string = json.dumps(icardio_data)\n",
    "\n",
    "with open('icardio_data.json', 'w', encoding='utf-8') as f:\n",
    "    json.dump(icardio_data, f, ensure_ascii=False, indent=4)"
   ]
  },
  {
   "cell_type": "code",
   "execution_count": null,
   "id": "2c887ad1",
   "metadata": {},
   "outputs": [],
   "source": []
  }
 ],
 "metadata": {
  "kernelspec": {
   "display_name": "Python 3 (ipykernel)",
   "language": "python",
   "name": "python3"
  },
  "language_info": {
   "codemirror_mode": {
    "name": "ipython",
    "version": 3
   },
   "file_extension": ".py",
   "mimetype": "text/x-python",
   "name": "python",
   "nbconvert_exporter": "python",
   "pygments_lexer": "ipython3",
   "version": "3.9.12"
  }
 },
 "nbformat": 4,
 "nbformat_minor": 5
}
